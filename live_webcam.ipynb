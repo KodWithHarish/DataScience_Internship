{
 "cells": [
  {
   "cell_type": "code",
   "execution_count": 1,
   "id": "2904ba9f",
   "metadata": {},
   "outputs": [],
   "source": [
    "import cv2\n",
    "import datetime\n",
    "cap=cv2.VideoCapture(0)\n",
    "# cap.set(cv2.CAP_PROP_FRAME_WIDTH,250)\n",
    "cap.set(3,1000)# width\n",
    "cap.set(4,1000)# height\n",
    "while True:    \n",
    "    ret,img=cap.read();\n",
    "    now=str(datetime.datetime.now())\n",
    "    now=now[:19]\n",
    "    cv2.putText(img,now,(0,30),0,1,(255,0,0),3)\n",
    "    cv2.imshow(\"image\",img)\n",
    "    \n",
    "    if cv2.waitKey(1) & 0xff == ord('q'):\n",
    "        break\n",
    "cap.release()\n",
    "cv2.destroyAllWindows()"
   ]
  },
  {
   "cell_type": "code",
   "execution_count": null,
   "id": "9e566b4a",
   "metadata": {},
   "outputs": [],
   "source": []
  }
 ],
 "metadata": {
  "kernelspec": {
   "display_name": "Python 3 (ipykernel)",
   "language": "python",
   "name": "python3"
  },
  "language_info": {
   "codemirror_mode": {
    "name": "ipython",
    "version": 3
   },
   "file_extension": ".py",
   "mimetype": "text/x-python",
   "name": "python",
   "nbconvert_exporter": "python",
   "pygments_lexer": "ipython3",
   "version": "3.9.12"
  }
 },
 "nbformat": 4,
 "nbformat_minor": 5
}
