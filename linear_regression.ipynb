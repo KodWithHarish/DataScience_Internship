{
 "cells": [
  {
   "cell_type": "code",
   "execution_count": 1,
   "id": "ab22607e",
   "metadata": {},
   "outputs": [
    {
     "name": "stdout",
     "output_type": "stream",
     "text": [
      "   x  y\n",
      "0  1  3\n",
      "1  2  4\n",
      "2  3  3\n",
      "3  4  4\n",
      "4  5  5\n"
     ]
    }
   ],
   "source": [
    "import pandas as pd\n",
    "titanic=pd.read_csv(\"regression.csv\")\n",
    "print(titanic)"
   ]
  },
  {
   "cell_type": "code",
   "execution_count": 26,
   "id": "2a13c7f8",
   "metadata": {},
   "outputs": [
    {
     "name": "stdout",
     "output_type": "stream",
     "text": [
      "   x  y\n",
      "0  1  3\n",
      "1  2  4\n",
      "2  3  3\n",
      "3  4  4\n",
      "4  5  5\n"
     ]
    }
   ],
   "source": [
    "import pandas as pd\n",
    "from statistics import mean, median, mode, variance\n",
    "df1=pd.DataFrame({'x':[1,2,3,4,5],'y':[3,4,3,4,5]})\n",
    "print(df1)"
   ]
  },
  {
   "cell_type": "code",
   "execution_count": null,
   "id": "518f5d98",
   "metadata": {},
   "outputs": [],
   "source": [
    "# x-xb\n",
    "# y-yb"
   ]
  },
  {
   "cell_type": "code",
   "execution_count": 28,
   "id": "11c8314e",
   "metadata": {},
   "outputs": [
    {
     "name": "stdout",
     "output_type": "stream",
     "text": [
      "0    1\n",
      "1    2\n",
      "2    3\n",
      "3    4\n",
      "4    5\n",
      "Name: x, dtype: int64\n"
     ]
    }
   ],
   "source": [
    "print(df1['x'])"
   ]
  },
  {
   "cell_type": "code",
   "execution_count": 34,
   "id": "aa47808a",
   "metadata": {},
   "outputs": [
    {
     "name": "stdout",
     "output_type": "stream",
     "text": [
      "1\n",
      "2\n",
      "3\n",
      "4\n",
      "5\n"
     ]
    }
   ],
   "source": [
    "for i in df1['x']:\n",
    "    print(i)"
   ]
  },
  {
   "cell_type": "code",
   "execution_count": 50,
   "id": "a0c5af9f",
   "metadata": {},
   "outputs": [
    {
     "name": "stdout",
     "output_type": "stream",
     "text": [
      "x-xb : \n",
      "-2\n",
      "-1\n",
      "0\n",
      "1\n",
      "2\n"
     ]
    }
   ],
   "source": [
    "meanx=mean([1,2,3,4,5]) # x-xb\n",
    "print(\"x-xb : \")\n",
    "for i in df1['x']:\n",
    "    a=i-meanx\n",
    "    print(a)"
   ]
  },
  {
   "cell_type": "code",
   "execution_count": 49,
   "id": "27d21623",
   "metadata": {},
   "outputs": [
    {
     "name": "stdout",
     "output_type": "stream",
     "text": [
      "(x-xb)2 : \n",
      "-4\n",
      "-2\n",
      "0\n",
      "2\n",
      "4\n"
     ]
    }
   ],
   "source": [
    "meanx=mean([1,2,3,4,5]) # (x-xb)2\n",
    "print(\"(x-xb)2 : \")\n",
    "for i in df1['x']:\n",
    "    a=i-meanx\n",
    "    print(a*2)"
   ]
  },
  {
   "cell_type": "code",
   "execution_count": 40,
   "id": "b21d56b0",
   "metadata": {},
   "outputs": [
    {
     "name": "stdout",
     "output_type": "stream",
     "text": [
      "-0.7999999999999998\n",
      "0.20000000000000018\n",
      "-0.7999999999999998\n",
      "0.20000000000000018\n",
      "1.2000000000000002\n"
     ]
    }
   ],
   "source": [
    "meany=mean([3,4,3,4,5]) # y-yb\n",
    "# print(meanx)\n",
    "for i in df1['y']:\n",
    "    b=i-meany\n",
    "    print(b)"
   ]
  },
  {
   "cell_type": "code",
   "execution_count": 57,
   "id": "6863104a",
   "metadata": {},
   "outputs": [],
   "source": [
    "# (x-xb)(y-yb)\n"
   ]
  },
  {
   "cell_type": "markdown",
   "id": "6aad3005",
   "metadata": {},
   "source": [
    "# numpy"
   ]
  },
  {
   "cell_type": "code",
   "execution_count": 72,
   "id": "dfcd4e75",
   "metadata": {},
   "outputs": [],
   "source": [
    "import numpy as np"
   ]
  },
  {
   "cell_type": "code",
   "execution_count": 75,
   "id": "56480bb2",
   "metadata": {},
   "outputs": [],
   "source": [
    "x=np.array([1,2,3,4,5])\n",
    "y=np.array([3,4,2,4,5])"
   ]
  },
  {
   "cell_type": "code",
   "execution_count": 77,
   "id": "5ca4bbe7",
   "metadata": {},
   "outputs": [
    {
     "name": "stdout",
     "output_type": "stream",
     "text": [
      "3.0\n",
      "3.6\n"
     ]
    }
   ],
   "source": [
    "xb=np.mean(x)\n",
    "yb=np.mean(y)\n",
    "print(xb)\n",
    "print(yb)"
   ]
  },
  {
   "cell_type": "code",
   "execution_count": 74,
   "id": "c4eec3c6",
   "metadata": {},
   "outputs": [
    {
     "data": {
      "text/plain": [
       "3"
      ]
     },
     "execution_count": 74,
     "metadata": {},
     "output_type": "execute_result"
    }
   ],
   "source": []
  },
  {
   "cell_type": "code",
   "execution_count": 112,
   "id": "c741dbe0",
   "metadata": {},
   "outputs": [
    {
     "name": "stdout",
     "output_type": "stream",
     "text": [
      "A :  [-2. -1.  0.  1.  2.]\n",
      "B :  [-0.6  0.4 -1.6  0.4  1.4]\n",
      "C :  [4. 1. 0. 1. 4.]\n",
      "D :  [ 1.2 -0.4 -0.   0.4  2.8]\n",
      "K :  10.0\n",
      "L :  4.0\n",
      "M :  0.4\n",
      "YP :  [2.8 3.2 3.6 4.  4.4]\n",
      "E :  [0.36 0.16 2.56 0.16 1.96]\n",
      "F :  [-0.8 -0.4  0.   0.4  0.8]\n",
      "G :  [0.64 0.16 0.   0.16 0.64]\n",
      "sum E :  5.2\n",
      "sum G :  1.6000000000000008\n",
      "R2 : 30.76923076923078%\n"
     ]
    }
   ],
   "source": [
    "import numpy as np\n",
    "x=np.array([1,2,3,4,5])\n",
    "y=np.array([3,4,2,4,5])\n",
    "\n",
    "# x-xb=a\n",
    "xb=np.mean(x)\n",
    "a=x-xb\n",
    "print(\"A : \",a)\n",
    "\n",
    "# y-yb=b\n",
    "yb=np.mean(y)\n",
    "b=y-yb\n",
    "print(\"B : \",b)\n",
    "\n",
    "# (x-xb)**2\n",
    "c=np.multiply(a,a)\n",
    "print(\"C : \",c)\n",
    "\n",
    "# (x-xb)(y-yb)\n",
    "d=np.multiply(a,b)\n",
    "print(\"D : \",d)\n",
    "\n",
    "k=np.sum(c)\n",
    "l=np.sum(d)\n",
    "print(\"K : \",k)\n",
    "print(\"L : \",l)\n",
    "\n",
    "m=l/k\n",
    "print(\"M : \",m)\n",
    "\n",
    "yp=np.zeros(5)\n",
    "for i in range(5):\n",
    "    yp[i]=(m*x[i])+2.4\n",
    "print(\"YP : \",yp)\n",
    "\n",
    "e=np.multiply(b,b)\n",
    "print(\"E : \",e)\n",
    "\n",
    "f=np.subtract(yp,yb)\n",
    "print(\"F : \",f)\n",
    "\n",
    "g=np.multiply(f,f)\n",
    "print(\"G : \",g)\n",
    "\n",
    "sume=np.sum(e)\n",
    "sumg=np.sum(g)\n",
    "print(\"sum E : \",sume)\n",
    "print(\"sum G : \",sumg)\n",
    "\n",
    "r2=sumg/sume\n",
    "print(\"R2 : \"+str(r2*100)+\"%\")"
   ]
  },
  {
   "cell_type": "markdown",
   "id": "0c8954dd",
   "metadata": {},
   "source": [
    "# LinearRegression"
   ]
  },
  {
   "cell_type": "code",
   "execution_count": 121,
   "id": "88254c69",
   "metadata": {},
   "outputs": [
    {
     "name": "stdout",
     "output_type": "stream",
     "text": [
      "[[1]\n",
      " [2]\n",
      " [3]\n",
      " [4]\n",
      " [5]]\n",
      "30.76923076923075\n"
     ]
    }
   ],
   "source": [
    "import numpy as np\n",
    "from sklearn.linear_model import LinearRegression\n",
    "x=x.reshape((-1,1))\n",
    "print(x)\n",
    "model = LinearRegression()\n",
    "model.fit(x, y)\n",
    "# model = LinearRegression().fit(x, y)"
   ]
  },
  {
   "cell_type": "code",
   "execution_count": 123,
   "id": "6ac32c8d",
   "metadata": {},
   "outputs": [
    {
     "name": "stdout",
     "output_type": "stream",
     "text": [
      "30.76923076923075\n"
     ]
    }
   ],
   "source": [
    "r=model.score(x,y)\n",
    "print(r*100)"
   ]
  },
  {
   "cell_type": "code",
   "execution_count": 122,
   "id": "8ca496b9",
   "metadata": {},
   "outputs": [
    {
     "name": "stdout",
     "output_type": "stream",
     "text": [
      "intercept: 2.4000000000000004\n"
     ]
    }
   ],
   "source": [
    "print(f\"intercept: {model.intercept_}\")"
   ]
  },
  {
   "cell_type": "code",
   "execution_count": 124,
   "id": "84ae6ece",
   "metadata": {},
   "outputs": [
    {
     "name": "stdout",
     "output_type": "stream",
     "text": [
      "slope: [0.4]\n"
     ]
    }
   ],
   "source": [
    "print(f\"slope: {model.coef_}\")"
   ]
  },
  {
   "cell_type": "code",
   "execution_count": 125,
   "id": "8efc3513",
   "metadata": {},
   "outputs": [
    {
     "name": "stdout",
     "output_type": "stream",
     "text": [
      "intercept: [2.4]\n"
     ]
    }
   ],
   "source": [
    "new_model = LinearRegression().fit(x, y.reshape((-1, 1)))\n",
    "print(f\"intercept: {new_model.intercept_}\")"
   ]
  },
  {
   "cell_type": "code",
   "execution_count": null,
   "id": "de8df60c",
   "metadata": {},
   "outputs": [],
   "source": []
  }
 ],
 "metadata": {
  "kernelspec": {
   "display_name": "Python 3 (ipykernel)",
   "language": "python",
   "name": "python3"
  },
  "language_info": {
   "codemirror_mode": {
    "name": "ipython",
    "version": 3
   },
   "file_extension": ".py",
   "mimetype": "text/x-python",
   "name": "python",
   "nbconvert_exporter": "python",
   "pygments_lexer": "ipython3",
   "version": "3.9.12"
  }
 },
 "nbformat": 4,
 "nbformat_minor": 5
}
