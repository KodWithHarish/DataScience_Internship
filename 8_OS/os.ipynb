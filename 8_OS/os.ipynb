{
 "cells": [
  {
   "cell_type": "code",
   "execution_count": null,
   "metadata": {},
   "outputs": [],
   "source": [
    "# System Commands are associate"
   ]
  },
  {
   "cell_type": "code",
   "execution_count": 4,
   "metadata": {},
   "outputs": [
    {
     "data": {
      "text/plain": [
       "['.ipynb_checkpoints',\n",
       " 'Face.jpg',\n",
       " 'faces',\n",
       " 'face_recognition.ipynb',\n",
       " 'haarcascade_frontalface_default.xml',\n",
       " 'Untitled.ipynb']"
      ]
     },
     "execution_count": 4,
     "metadata": {},
     "output_type": "execute_result"
    }
   ],
   "source": [
    "from os import listdir\n",
    "listdir()"
   ]
  },
  {
   "cell_type": "code",
   "execution_count": 1,
   "metadata": {},
   "outputs": [],
   "source": [
    "import os"
   ]
  },
  {
   "cell_type": "code",
   "execution_count": 2,
   "metadata": {
    "scrolled": true
   },
   "outputs": [
    {
     "data": {
      "text/plain": [
       "['.ipynb_checkpoints',\n",
       " 'Face.jpg',\n",
       " 'faces',\n",
       " 'face_recognition.ipynb',\n",
       " 'haarcascade_frontalface_default.xml',\n",
       " 'Untitled.ipynb']"
      ]
     },
     "execution_count": 2,
     "metadata": {},
     "output_type": "execute_result"
    }
   ],
   "source": [
    "os.listdir()"
   ]
  },
  {
   "cell_type": "code",
   "execution_count": 5,
   "metadata": {},
   "outputs": [
    {
     "data": {
      "text/plain": [
       "list"
      ]
     },
     "execution_count": 5,
     "metadata": {},
     "output_type": "execute_result"
    }
   ],
   "source": [
    "x=os.listdir()\n",
    "type(x)"
   ]
  },
  {
   "cell_type": "code",
   "execution_count": 6,
   "metadata": {},
   "outputs": [
    {
     "data": {
      "text/plain": [
       "['user1.jpg',\n",
       " 'user10.jpg',\n",
       " 'user11.jpg',\n",
       " 'user12.jpg',\n",
       " 'user13.jpg',\n",
       " 'user14.jpg',\n",
       " 'user15.jpg',\n",
       " 'user16.jpg',\n",
       " 'user17.jpg',\n",
       " 'user18.jpg',\n",
       " 'user19.jpg',\n",
       " 'user2.jpg',\n",
       " 'user20.jpg',\n",
       " 'user21.jpg',\n",
       " 'user22.jpg',\n",
       " 'user23.jpg',\n",
       " 'user24.jpg',\n",
       " 'user25.jpg',\n",
       " 'user26.jpg',\n",
       " 'user27.jpg',\n",
       " 'user28.jpg',\n",
       " 'user29.jpg',\n",
       " 'user3.jpg',\n",
       " 'user30.jpg',\n",
       " 'user31.jpg',\n",
       " 'user32.jpg',\n",
       " 'user33.jpg',\n",
       " 'user34.jpg',\n",
       " 'user35.jpg',\n",
       " 'user36.jpg',\n",
       " 'user37.jpg',\n",
       " 'user38.jpg',\n",
       " 'user39.jpg',\n",
       " 'user4.jpg',\n",
       " 'user40.jpg',\n",
       " 'user41.jpg',\n",
       " 'user42.jpg',\n",
       " 'user43.jpg',\n",
       " 'user44.jpg',\n",
       " 'user45.jpg',\n",
       " 'user46.jpg',\n",
       " 'user47.jpg',\n",
       " 'user48.jpg',\n",
       " 'user49.jpg',\n",
       " 'user5.jpg',\n",
       " 'user50.jpg',\n",
       " 'user51.jpg',\n",
       " 'user52.jpg',\n",
       " 'user53.jpg',\n",
       " 'user54.jpg',\n",
       " 'user55.jpg',\n",
       " 'user56.jpg',\n",
       " 'user57.jpg',\n",
       " 'user58.jpg',\n",
       " 'user59.jpg',\n",
       " 'user6.jpg',\n",
       " 'user60.jpg',\n",
       " 'user61.jpg',\n",
       " 'user62.jpg',\n",
       " 'user63.jpg',\n",
       " 'user64.jpg',\n",
       " 'user65.jpg',\n",
       " 'user66.jpg',\n",
       " 'user67.jpg',\n",
       " 'user68.jpg',\n",
       " 'user69.jpg',\n",
       " 'user7.jpg',\n",
       " 'user8.jpg',\n",
       " 'user9.jpg']"
      ]
     },
     "execution_count": 6,
     "metadata": {},
     "output_type": "execute_result"
    }
   ],
   "source": [
    "os.listdir(\"faces\")"
   ]
  },
  {
   "cell_type": "code",
   "execution_count": 9,
   "metadata": {},
   "outputs": [
    {
     "data": {
      "text/plain": [
       "['.ipynb_checkpoints',\n",
       " 'Face.jpg',\n",
       " 'faces',\n",
       " 'face_recognition.ipynb',\n",
       " 'haarcascade_frontalface_default.xml',\n",
       " 'os.ipynb']"
      ]
     },
     "execution_count": 9,
     "metadata": {},
     "output_type": "execute_result"
    }
   ],
   "source": [
    "os.listdir(\"C:\\\\Users\\\\Harish\\\\DataScience\\\\Projects\\\\face_recognition\")"
   ]
  },
  {
   "cell_type": "code",
   "execution_count": 11,
   "metadata": {},
   "outputs": [
    {
     "name": "stdout",
     "output_type": "stream",
     "text": [
      "False\n",
      "True\n"
     ]
    }
   ],
   "source": [
    "print(os.path.isfile(\"faces\"))\n",
    "print(os.path.isfile(\"Face.jpg\"))"
   ]
  },
  {
   "cell_type": "code",
   "execution_count": 12,
   "metadata": {},
   "outputs": [
    {
     "name": "stdout",
     "output_type": "stream",
     "text": [
      "True\n"
     ]
    }
   ],
   "source": [
    "print(os.path.isdir(\"faces\"))"
   ]
  },
  {
   "cell_type": "code",
   "execution_count": 15,
   "metadata": {},
   "outputs": [
    {
     "name": "stdout",
     "output_type": "stream",
     "text": [
      "Help on function join in module ntpath:\n",
      "\n",
      "join(path, *paths)\n",
      "    # Join two (or more) paths.\n",
      "\n"
     ]
    }
   ],
   "source": [
    "help(os.path.join)"
   ]
  },
  {
   "cell_type": "code",
   "execution_count": 16,
   "metadata": {},
   "outputs": [
    {
     "data": {
      "text/plain": [
       "'C:\\\\Users\\\\Harish\\\\DataScience\\\\Projects\\\\face_recognition'"
      ]
     },
     "execution_count": 16,
     "metadata": {},
     "output_type": "execute_result"
    }
   ],
   "source": [
    "os.path.join(\"C:\\\\Users\\\\Harish\",\"DataScience\\\\Projects\\\\face_recognition\")"
   ]
  },
  {
   "cell_type": "code",
   "execution_count": 12,
   "metadata": {},
   "outputs": [],
   "source": [
    "data_path='faces/'\n",
    "only_files = [f for f in os.listdir(data_path) if os.path.isfile(os.path.join(data_path, f))]"
   ]
  },
  {
   "cell_type": "code",
   "execution_count": 15,
   "metadata": {},
   "outputs": [
    {
     "data": {
      "text/plain": [
       "list"
      ]
     },
     "execution_count": 15,
     "metadata": {},
     "output_type": "execute_result"
    }
   ],
   "source": [
    "type(only_files)"
   ]
  },
  {
   "cell_type": "code",
   "execution_count": 17,
   "metadata": {},
   "outputs": [],
   "source": [
    "my_list=[2,4,6,8,10]"
   ]
  },
  {
   "cell_type": "code",
   "execution_count": 21,
   "metadata": {
    "scrolled": true
   },
   "outputs": [
    {
     "name": "stdout",
     "output_type": "stream",
     "text": [
      "(0, 'user1.jpg')\n",
      "(1, 'user10.jpg')\n",
      "(2, 'user11.jpg')\n",
      "(3, 'user12.jpg')\n",
      "(4, 'user13.jpg')\n",
      "(5, 'user14.jpg')\n",
      "(6, 'user15.jpg')\n",
      "(7, 'user16.jpg')\n",
      "(8, 'user17.jpg')\n",
      "(9, 'user18.jpg')\n",
      "(10, 'user19.jpg')\n",
      "(11, 'user2.jpg')\n",
      "(12, 'user20.jpg')\n",
      "(13, 'user21.jpg')\n",
      "(14, 'user22.jpg')\n",
      "(15, 'user23.jpg')\n",
      "(16, 'user24.jpg')\n",
      "(17, 'user25.jpg')\n",
      "(18, 'user3.jpg')\n",
      "(19, 'user4.jpg')\n",
      "(20, 'user5.jpg')\n",
      "(21, 'user6.jpg')\n",
      "(22, 'user7.jpg')\n",
      "(23, 'user8.jpg')\n",
      "(24, 'user9.jpg')\n"
     ]
    }
   ],
   "source": [
    "for i in enumerate(only_files):\n",
    "    print(i)"
   ]
  },
  {
   "cell_type": "code",
   "execution_count": 7,
   "metadata": {},
   "outputs": [
    {
     "name": "stdout",
     "output_type": "stream",
     "text": [
      "Enter the index\n",
      "7\n",
      "please enter valid index and try again\n",
      "progrom is finished\n"
     ]
    }
   ],
   "source": [
    "my_list=[2,4,6,8]\n",
    "try:\n",
    "    index=int(input(\"Enter the index\\n\"))\n",
    "    print(my_list[index])\n",
    "except:\n",
    "    print(\"please enter valid index and try again\")\n",
    "finally:\n",
    "    print(\"progrom is finished\")"
   ]
  },
  {
   "cell_type": "code",
   "execution_count": 17,
   "metadata": {},
   "outputs": [
    {
     "name": "stdout",
     "output_type": "stream",
     "text": [
      "2\n",
      "4\n",
      "6\n",
      "8\n",
      "10\n"
     ]
    }
   ],
   "source": [
    "x=[2,4,6,8,10]\n",
    "for i in x:\n",
    "    print(i)"
   ]
  },
  {
   "cell_type": "code",
   "execution_count": 19,
   "metadata": {},
   "outputs": [
    {
     "name": "stdout",
     "output_type": "stream",
     "text": [
      "(0, 2)\n",
      "(1, 4)\n",
      "(2, 6)\n",
      "(3, 8)\n",
      "(4, 10)\n"
     ]
    }
   ],
   "source": [
    "# display index of values\n",
    "x=[2,4,6,8,10]\n",
    "for i in enumerate(x):\n",
    "    print(i)"
   ]
  },
  {
   "cell_type": "code",
   "execution_count": null,
   "metadata": {},
   "outputs": [],
   "source": [
    "# Even Number from a list"
   ]
  },
  {
   "cell_type": "code",
   "execution_count": 26,
   "metadata": {},
   "outputs": [
    {
     "name": "stdout",
     "output_type": "stream",
     "text": [
      "[<generator object <genexpr> at 0x00000170A689CCF0>]\n"
     ]
    }
   ],
   "source": [
    "x=[2,3,5,7,4,6,9,8,10]\n",
    "even=[(i for i in x if i%2==0)]\n",
    "print(even)"
   ]
  },
  {
   "cell_type": "code",
   "execution_count": 27,
   "metadata": {},
   "outputs": [
    {
     "name": "stdout",
     "output_type": "stream",
     "text": [
      "2\n",
      "4\n",
      "6\n",
      "8\n",
      "10\n"
     ]
    }
   ],
   "source": [
    "for i in even[0]:\n",
    "    print(i)"
   ]
  },
  {
   "cell_type": "code",
   "execution_count": null,
   "metadata": {},
   "outputs": [],
   "source": [
    "# Types of Errors\n",
    "# 1.syntax\n",
    "# 2.logical\n",
    "# 3.exceptional"
   ]
  },
  {
   "cell_type": "code",
   "execution_count": 28,
   "metadata": {},
   "outputs": [
    {
     "name": "stdout",
     "output_type": "stream",
     "text": [
      "Index not found\n"
     ]
    }
   ],
   "source": [
    "try:\n",
    "    a=[1,2,3]\n",
    "    print(a[4])\n",
    "except:\n",
    "    print(\"Index not found\")"
   ]
  },
  {
   "cell_type": "code",
   "execution_count": 1,
   "metadata": {},
   "outputs": [
    {
     "name": "stdout",
     "output_type": "stream",
     "text": [
      "Enter X Value\n",
      "6\n",
      "Enter Y Value\n",
      "0\n",
      "ZeroDivision Error\n",
      "Program finished\n"
     ]
    }
   ],
   "source": [
    "try:\n",
    "    x=int(input(\"Enter X Value\\n\"))\n",
    "    y=int(input(\"Enter Y Value\\n\"))\n",
    "    print(x/y)\n",
    "except:\n",
    "    print(\"ZeroDivision Error\")\n",
    "finally:\n",
    "    print(\"Program finished\")"
   ]
  },
  {
   "cell_type": "code",
   "execution_count": 5,
   "metadata": {},
   "outputs": [
    {
     "name": "stdout",
     "output_type": "stream",
     "text": [
      "Enter X Value\n",
      "0\n",
      "Enter Y Value\n",
      "0\n",
      "'ZeroDivision Error' Enter Number Greater Than Zero\n",
      "Program finished\n"
     ]
    }
   ],
   "source": [
    "try:\n",
    "    x=int(input(\"Enter X Value\\n\"))\n",
    "    y=int(input(\"Enter Y Value\\n\"))\n",
    "    print(x/y)\n",
    "except ValueError:\n",
    "    print(\"'ValueError' Enter Integer Value Only\")\n",
    "except ZeroDivisionError:\n",
    "    print(\"'ZeroDivisionError' Enter Number Greater Than Zero\")\n",
    "finally:\n",
    "    print(\"Program finished\")"
   ]
  },
  {
   "cell_type": "code",
   "execution_count": null,
   "metadata": {},
   "outputs": [],
   "source": [
    "x=int(input(\"Enter X Value\\n\"))\n",
    "if x==0:\n",
    "    raise ZeroDivisionError\n",
    "if x==' ':\n",
    "    raise ValueError\n",
    "        "
   ]
  },
  {
   "cell_type": "code",
   "execution_count": null,
   "metadata": {},
   "outputs": [],
   "source": []
  }
 ],
 "metadata": {
  "kernelspec": {
   "display_name": "Python 3 (ipykernel)",
   "language": "python",
   "name": "python3"
  },
  "language_info": {
   "codemirror_mode": {
    "name": "ipython",
    "version": 3
   },
   "file_extension": ".py",
   "mimetype": "text/x-python",
   "name": "python",
   "nbconvert_exporter": "python",
   "pygments_lexer": "ipython3",
   "version": "3.9.12"
  }
 },
 "nbformat": 4,
 "nbformat_minor": 4
}
