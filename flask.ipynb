{
 "cells": [
  {
   "cell_type": "code",
   "execution_count": 3,
   "metadata": {},
   "outputs": [
    {
     "name": "stdout",
     "output_type": "stream",
     "text": [
      "Help on method run in module flask.app:\n",
      "\n",
      "run(host=None, port=None, debug=None, load_dotenv=True, **options) method of flask.app.Flask instance\n",
      "    Runs the application on a local development server.\n",
      "    \n",
      "    Do not use ``run()`` in a production setting. It is not intended to\n",
      "    meet security and performance requirements for a production server.\n",
      "    Instead, see :ref:`deployment` for WSGI server recommendations.\n",
      "    \n",
      "    If the :attr:`debug` flag is set the server will automatically reload\n",
      "    for code changes and show a debugger in case an exception happened.\n",
      "    \n",
      "    If you want to run the application in debug mode, but disable the\n",
      "    code execution on the interactive debugger, you can pass\n",
      "    ``use_evalex=False`` as parameter.  This will keep the debugger's\n",
      "    traceback screen active, but disable code execution.\n",
      "    \n",
      "    It is not recommended to use this function for development with\n",
      "    automatic reloading as this is badly supported.  Instead you should\n",
      "    be using the :command:`flask` command line script's ``run`` support.\n",
      "    \n",
      "    .. admonition:: Keep in Mind\n",
      "    \n",
      "       Flask will suppress any server error with a generic error page\n",
      "       unless it is in debug mode.  As such to enable just the\n",
      "       interactive debugger without the code reloading, you have to\n",
      "       invoke :meth:`run` with ``debug=True`` and ``use_reloader=False``.\n",
      "       Setting ``use_debugger`` to ``True`` without being in debug mode\n",
      "       won't catch any exceptions because there won't be any to\n",
      "       catch.\n",
      "    \n",
      "    :param host: the hostname to listen on. Set this to ``'0.0.0.0'`` to\n",
      "        have the server available externally as well. Defaults to\n",
      "        ``'127.0.0.1'`` or the host in the ``SERVER_NAME`` config variable\n",
      "        if present.\n",
      "    :param port: the port of the webserver. Defaults to ``5000`` or the\n",
      "        port defined in the ``SERVER_NAME`` config variable if present.\n",
      "    :param debug: if given, enable or disable debug mode. See\n",
      "        :attr:`debug`.\n",
      "    :param load_dotenv: Load the nearest :file:`.env` and :file:`.flaskenv`\n",
      "        files to set environment variables. Will also change the working\n",
      "        directory to the directory containing the first file found.\n",
      "    :param options: the options to be forwarded to the underlying Werkzeug\n",
      "        server. See :func:`werkzeug.serving.run_simple` for more\n",
      "        information.\n",
      "    \n",
      "    .. versionchanged:: 1.0\n",
      "        If installed, python-dotenv will be used to load environment\n",
      "        variables from :file:`.env` and :file:`.flaskenv` files.\n",
      "    \n",
      "        If set, the :envvar:`FLASK_ENV` and :envvar:`FLASK_DEBUG`\n",
      "        environment variables will override :attr:`env` and\n",
      "        :attr:`debug`.\n",
      "    \n",
      "        Threaded mode is enabled by default.\n",
      "    \n",
      "    .. versionchanged:: 0.10\n",
      "        The default port is now picked from the ``SERVER_NAME``\n",
      "        variable.\n",
      "\n"
     ]
    }
   ],
   "source": [
    "help(app.run)"
   ]
  },
  {
   "cell_type": "code",
   "execution_count": 1,
   "metadata": {},
   "outputs": [
    {
     "name": "stdout",
     "output_type": "stream",
     "text": [
      " * Serving Flask app \"__main__\" (lazy loading)\n",
      " * Environment: production\n",
      "\u001b[31m   WARNING: This is a development server. Do not use it in a production deployment.\u001b[0m\n",
      "\u001b[2m   Use a production WSGI server instead.\u001b[0m\n",
      " * Debug mode: on\n"
     ]
    },
    {
     "name": "stderr",
     "output_type": "stream",
     "text": [
      " * Restarting with watchdog (windowsapi)\n"
     ]
    },
    {
     "ename": "SystemExit",
     "evalue": "1",
     "output_type": "error",
     "traceback": [
      "An exception has occurred, use %tb to see the full traceback.\n",
      "\u001b[1;31mSystemExit\u001b[0m\u001b[1;31m:\u001b[0m 1\n"
     ]
    },
    {
     "name": "stderr",
     "output_type": "stream",
     "text": [
      "C:\\Users\\Harish\\AppData\\Roaming\\Python\\Python39\\site-packages\\IPython\\core\\interactiveshell.py:3369: UserWarning: To exit: use 'exit', 'quit', or Ctrl-D.\n",
      "  warn(\"To exit: use 'exit', 'quit', or Ctrl-D.\", stacklevel=1)\n"
     ]
    }
   ],
   "source": [
    "from flask import Flask\n",
    "app=Flask(__name__)\n",
    "@app.route(\"/\")\n",
    "def fun1():\n",
    "    return \"hello world\"\n",
    "if __name__ == \"__main__\":\n",
    "    app.debug=True\n",
    "    app.run(host=\"0.0.0.0\")"
   ]
  },
  {
   "cell_type": "code",
   "execution_count": null,
   "metadata": {},
   "outputs": [],
   "source": []
  },
  {
   "cell_type": "code",
   "execution_count": null,
   "metadata": {},
   "outputs": [],
   "source": []
  }
 ],
 "metadata": {
  "kernelspec": {
   "display_name": "Python 3 (ipykernel)",
   "language": "python",
   "name": "python3"
  },
  "language_info": {
   "codemirror_mode": {
    "name": "ipython",
    "version": 3
   },
   "file_extension": ".py",
   "mimetype": "text/x-python",
   "name": "python",
   "nbconvert_exporter": "python",
   "pygments_lexer": "ipython3",
   "version": "3.9.12"
  }
 },
 "nbformat": 4,
 "nbformat_minor": 4
}
