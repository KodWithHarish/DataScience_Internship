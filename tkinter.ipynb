{
 "cells": [
  {
   "cell_type": "code",
   "execution_count": null,
   "id": "6799d7e6",
   "metadata": {},
   "outputs": [],
   "source": []
  },
  {
   "cell_type": "code",
   "execution_count": 5,
   "id": "000d2782",
   "metadata": {},
   "outputs": [],
   "source": [
    "import tkinter\n",
    "obj=tkinter.Tk()\n",
    "obj.mainloop()"
   ]
  },
  {
   "cell_type": "markdown",
   "id": "79334f95",
   "metadata": {},
   "source": [
    "# Tkinter Widgets \n",
    "Button Canvas Checkbutton Entry Frame Label Listbox  Menubutton Menu Message Radiobutton Scale Scrollbar Text Toplevel Spinbox PanedWindow LabelFrame tkMessageBox"
   ]
  },
  {
   "cell_type": "code",
   "execution_count": 9,
   "id": "b85c8127",
   "metadata": {},
   "outputs": [],
   "source": [
    "import tkinter\n",
    "obj=tkinter.Tk()\n",
    "btn=tkinter.Button(obj,text=\"ok\")\n",
    "obj.geometry('400x400')\n",
    "btn.place(x=100,y=100)\n",
    "btn.place()\n",
    "obj.mainloop()"
   ]
  },
  {
   "cell_type": "code",
   "execution_count": 16,
   "id": "6482ca89",
   "metadata": {},
   "outputs": [
    {
     "name": "stdout",
     "output_type": "stream",
     "text": [
      "Vidya\n",
      "Vidya\n",
      "Vidya\n",
      "Vidya\n",
      "Vidya\n",
      "Vidya\n",
      "Vidya\n",
      "Vidya\n",
      "Vidya\n",
      "Vidya\n",
      "Vidya\n",
      "Vidya\n",
      "Vidya\n",
      "Vidya\n",
      "Vidya\n"
     ]
    }
   ],
   "source": [
    "import tkinter\n",
    "obj=tkinter.Tk()\n",
    "def btnFun():\n",
    "    print(\"Vidya\")\n",
    "btn=tkinter.Button(obj,text=\"ok\", command=btnFun)\n",
    "obj.geometry('400x400')\n",
    "btn.place(x=100,y=100)\n",
    "btn.place()\n",
    "obj.mainloop()"
   ]
  },
  {
   "cell_type": "code",
   "execution_count": 21,
   "id": "14e26aae",
   "metadata": {},
   "outputs": [],
   "source": [
    "from tkinter import *\n",
    "from tkinter import messagebox\n",
    "top = Tk()\n",
    "top.geometry(\"100x100\")\n",
    "def helloCallBack():\n",
    "    msg=messagebox.showinfo( \"Hello Python\", \"Hello World\")\n",
    "B = Button(top, text =\"Hello\", command = helloCallBack)\n",
    "B.place(x=50,y=50)\n",
    "top.mainloop()"
   ]
  },
  {
   "cell_type": "code",
   "execution_count": 24,
   "id": "7d2c6806",
   "metadata": {},
   "outputs": [],
   "source": [
    "from tkinter import *\n",
    "from tkinter import messagebox\n",
    "top = Tk()\n",
    "C = Canvas(top, bg=\"blue\", height=250, width=300)\n",
    "coord = 10, 50, 240, 210\n",
    "arc = C.create_arc(coord, start=0, extent=150, fill=\"red\")\n",
    "line = C.create_line(10,10,200,200,fill='white')\n",
    "C.pack()\n",
    "top.mainloop()"
   ]
  },
  {
   "cell_type": "code",
   "execution_count": 26,
   "id": "2dd9efd4",
   "metadata": {},
   "outputs": [],
   "source": [
    "from tkinter import *\n",
    "import tkinter\n",
    "top = Tk()\n",
    "CheckVar1 = IntVar()\n",
    "CheckVar2 = IntVar()\n",
    "C1 = Checkbutton(top, text = \"\", variable = CheckVar1, \\\n",
    "onvalue = 1, offvalue = 0, height=5, \\\n",
    "width = 20, )\n",
    "C2 = Checkbutton(top, text = \"Vidya\", variable = CheckVar2, \\\n",
    "onvalue = 1, offvalue = 0, height=5, \\\n",
    "width = 20)\n",
    "C1.pack()\n",
    "C2.pack()\n",
    "top.mainloop()"
   ]
  },
  {
   "cell_type": "code",
   "execution_count": null,
   "id": "ab1a362c",
   "metadata": {},
   "outputs": [],
   "source": []
  }
 ],
 "metadata": {
  "kernelspec": {
   "display_name": "Python 3 (ipykernel)",
   "language": "python",
   "name": "python3"
  },
  "language_info": {
   "codemirror_mode": {
    "name": "ipython",
    "version": 3
   },
   "file_extension": ".py",
   "mimetype": "text/x-python",
   "name": "python",
   "nbconvert_exporter": "python",
   "pygments_lexer": "ipython3",
   "version": "3.9.12"
  }
 },
 "nbformat": 4,
 "nbformat_minor": 5
}
