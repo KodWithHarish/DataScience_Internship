{
 "cells": [
  {
   "cell_type": "markdown",
   "id": "584023b6",
   "metadata": {},
   "source": [
    "# Modes\n",
    "r rb r+ rb+ w wb w+ wb+ a ab a+ ab+ "
   ]
  },
  {
   "cell_type": "code",
   "execution_count": 2,
   "id": "36206f35",
   "metadata": {},
   "outputs": [],
   "source": [
    "# file object = open(file_name [, access_mode][, buffering])"
   ]
  },
  {
   "cell_type": "markdown",
   "id": "7570aac9",
   "metadata": {},
   "source": [
    "# read"
   ]
  },
  {
   "cell_type": "code",
   "execution_count": 7,
   "id": "70871fe7",
   "metadata": {},
   "outputs": [
    {
     "name": "stdout",
     "output_type": "stream",
     "text": [
      "Harish\n"
     ]
    }
   ],
   "source": [
    "file =open(\"a.txt\")\n",
    "for i in file:\n",
    "    print(i)"
   ]
  },
  {
   "cell_type": "code",
   "execution_count": 23,
   "id": "713bef04",
   "metadata": {},
   "outputs": [
    {
     "name": "stdout",
     "output_type": "stream",
     "text": [
      "['H', 'a', 'r', 'i', 's', 'h', '\\n']\n",
      "['h', 'i', '\\n']\n",
      "['b', 'y']\n"
     ]
    }
   ],
   "source": [
    "file =open(\"a.txt\")\n",
    "for i in file:\n",
    "    print(list(i))"
   ]
  },
  {
   "cell_type": "code",
   "execution_count": 9,
   "id": "57117236",
   "metadata": {},
   "outputs": [
    {
     "name": "stdout",
     "output_type": "stream",
     "text": [
      "('H', 'a', 'r', 'i', 's', 'h')\n"
     ]
    }
   ],
   "source": [
    "file =open(\"a.txt\")\n",
    "for i in file:\n",
    "    print(tuple(i))\n",
    "    "
   ]
  },
  {
   "cell_type": "code",
   "execution_count": 10,
   "id": "3ff89073",
   "metadata": {},
   "outputs": [
    {
     "name": "stdout",
     "output_type": "stream",
     "text": [
      "a\n"
     ]
    }
   ],
   "source": [
    "file =open(\"a.txt\")\n",
    "for i in file:\n",
    "    print(i[1])\n",
    "    "
   ]
  },
  {
   "cell_type": "code",
   "execution_count": 14,
   "id": "ac5579ba",
   "metadata": {},
   "outputs": [
    {
     "name": "stdout",
     "output_type": "stream",
     "text": [
      "<_io.TextIOWrapper name='a.txt' mode='r' encoding='cp1252'>\n"
     ]
    }
   ],
   "source": [
    "file =open(\"a.txt\",'r') # Opens a file for reading only\n",
    "print(file)"
   ]
  },
  {
   "cell_type": "markdown",
   "id": "1924e1e1",
   "metadata": {},
   "source": [
    "# The File Object Attributes\n",
    "closed mode name"
   ]
  },
  {
   "cell_type": "code",
   "execution_count": 20,
   "id": "e9228d08",
   "metadata": {},
   "outputs": [
    {
     "name": "stdout",
     "output_type": "stream",
     "text": [
      "False\n",
      "r\n",
      "a.txt\n"
     ]
    }
   ],
   "source": [
    "file =open(\"a.txt\",'r') \n",
    "print(file.closed)\n",
    "print(file.mode)\n",
    "print(file.name)"
   ]
  },
  {
   "cell_type": "code",
   "execution_count": 21,
   "id": "7f746888",
   "metadata": {},
   "outputs": [],
   "source": [
    "file.close()"
   ]
  },
  {
   "cell_type": "code",
   "execution_count": 22,
   "id": "2f5c379b",
   "metadata": {},
   "outputs": [
    {
     "name": "stdout",
     "output_type": "stream",
     "text": [
      "Harish\n",
      "hi\n",
      "by\n"
     ]
    }
   ],
   "source": [
    "file =open(\"a.txt\",'r') \n",
    "content=file.read()\n",
    "print(content)"
   ]
  },
  {
   "cell_type": "code",
   "execution_count": 24,
   "id": "23499278",
   "metadata": {},
   "outputs": [
    {
     "name": "stdout",
     "output_type": "stream",
     "text": [
      "Har\n"
     ]
    }
   ],
   "source": [
    "file =open(\"a.txt\",'r') \n",
    "content=file.read(3)\n",
    "print(content)"
   ]
  },
  {
   "cell_type": "code",
   "execution_count": 25,
   "id": "2d1f3adf",
   "metadata": {},
   "outputs": [
    {
     "name": "stdout",
     "output_type": "stream",
     "text": [
      "ish\n"
     ]
    }
   ],
   "source": [
    "file =open(\"a.txt\",'r') \n",
    "content=file.read(3)\n",
    "content=file.read(3)\n",
    "print(content)"
   ]
  },
  {
   "cell_type": "markdown",
   "id": "c39b003b",
   "metadata": {},
   "source": [
    "# write"
   ]
  },
  {
   "cell_type": "code",
   "execution_count": 27,
   "id": "3ca36be4",
   "metadata": {},
   "outputs": [],
   "source": [
    "file=open(\"file.txt\",'w')\n",
    "file.write(\"Prajwal\")\n",
    "file.close()"
   ]
  },
  {
   "cell_type": "code",
   "execution_count": 29,
   "id": "3b55a78d",
   "metadata": {},
   "outputs": [],
   "source": [
    "file=open(\"file.txt\",'a')\n",
    "file.write(\"Madhu\")\n",
    "file.close()"
   ]
  },
  {
   "cell_type": "markdown",
   "id": "8f3ca00b",
   "metadata": {},
   "source": [
    "# File Positions\n",
    "tell seek"
   ]
  },
  {
   "cell_type": "code",
   "execution_count": 30,
   "id": "fc6e61ec",
   "metadata": {},
   "outputs": [
    {
     "name": "stdout",
     "output_type": "stream",
     "text": [
      "0\n"
     ]
    }
   ],
   "source": [
    "file=open(\"file.txt\",'r')\n",
    "pos=file.tell()\n",
    "print(pos)"
   ]
  },
  {
   "cell_type": "code",
   "execution_count": 35,
   "id": "424a08e9",
   "metadata": {},
   "outputs": [
    {
     "name": "stdout",
     "output_type": "stream",
     "text": [
      "lM\n",
      "8\n"
     ]
    }
   ],
   "source": [
    "x=file.read(2)\n",
    "print(x)\n",
    "pos=file.tell()\n",
    "print(pos)"
   ]
  },
  {
   "cell_type": "code",
   "execution_count": 37,
   "id": "b45c8143",
   "metadata": {},
   "outputs": [],
   "source": [
    "file.close()"
   ]
  },
  {
   "cell_type": "code",
   "execution_count": 36,
   "id": "f54dd4dd",
   "metadata": {},
   "outputs": [
    {
     "name": "stdout",
     "output_type": "stream",
     "text": [
      "Help on built-in function seek:\n",
      "\n",
      "seek(cookie, whence=0, /) method of _io.TextIOWrapper instance\n",
      "    Change stream position.\n",
      "    \n",
      "    Change the stream position to the given byte offset. The offset is\n",
      "    interpreted relative to the position indicated by whence.  Values\n",
      "    for whence are:\n",
      "    \n",
      "    * 0 -- start of stream (the default); offset should be zero or positive\n",
      "    * 1 -- current stream position; offset may be negative\n",
      "    * 2 -- end of stream; offset is usually negative\n",
      "    \n",
      "    Return the new absolute position.\n",
      "\n"
     ]
    }
   ],
   "source": [
    "help(file.seek)"
   ]
  },
  {
   "cell_type": "code",
   "execution_count": 38,
   "id": "e01c998f",
   "metadata": {},
   "outputs": [
    {
     "name": "stdout",
     "output_type": "stream",
     "text": [
      "0\n"
     ]
    }
   ],
   "source": [
    "file=open(\"file.txt\")\n",
    "print(file.tell())"
   ]
  },
  {
   "cell_type": "code",
   "execution_count": 41,
   "id": "b632c8f2",
   "metadata": {},
   "outputs": [
    {
     "name": "stdout",
     "output_type": "stream",
     "text": [
      "4\n",
      "4\n"
     ]
    }
   ],
   "source": [
    "print(file.seek(4,0))\n",
    "print(file.tell())"
   ]
  },
  {
   "cell_type": "markdown",
   "id": "1b3aff3f",
   "metadata": {},
   "source": [
    "# rename"
   ]
  },
  {
   "cell_type": "code",
   "execution_count": 47,
   "id": "57c9b559",
   "metadata": {},
   "outputs": [],
   "source": [
    "import os\n",
    "os.rename(\"rename.txt\",\"renamed.txt\")"
   ]
  },
  {
   "cell_type": "markdown",
   "id": "f5c7b289",
   "metadata": {},
   "source": [
    "# remove"
   ]
  },
  {
   "cell_type": "code",
   "execution_count": 48,
   "id": "d9fb0ab6",
   "metadata": {},
   "outputs": [],
   "source": [
    "os.remove(\"remove.txt\")"
   ]
  },
  {
   "cell_type": "markdown",
   "id": "1d7c6b06",
   "metadata": {},
   "source": [
    "# mkdir"
   ]
  },
  {
   "cell_type": "code",
   "execution_count": 49,
   "id": "b2daeb02",
   "metadata": {},
   "outputs": [],
   "source": [
    "os.mkdir(\"Harish\")"
   ]
  },
  {
   "cell_type": "markdown",
   "id": "e9c96f3b",
   "metadata": {},
   "source": [
    "# rmdir"
   ]
  },
  {
   "cell_type": "code",
   "execution_count": 50,
   "id": "c2e23738",
   "metadata": {},
   "outputs": [],
   "source": [
    "os.rmdir(\"Harish\")"
   ]
  },
  {
   "cell_type": "markdown",
   "id": "f72d7e1f",
   "metadata": {},
   "source": [
    "# getcwd"
   ]
  },
  {
   "cell_type": "code",
   "execution_count": 51,
   "id": "bff55a88",
   "metadata": {
    "scrolled": true
   },
   "outputs": [
    {
     "data": {
      "text/plain": [
       "'C:\\\\Users\\\\Harish\\\\DataScience\\\\Internship\\\\DAY10'"
      ]
     },
     "execution_count": 51,
     "metadata": {},
     "output_type": "execute_result"
    }
   ],
   "source": [
    "os.getcwd()"
   ]
  },
  {
   "cell_type": "markdown",
   "id": "f6889778",
   "metadata": {},
   "source": [
    "# chdir"
   ]
  },
  {
   "cell_type": "code",
   "execution_count": 54,
   "id": "696b8b62",
   "metadata": {},
   "outputs": [
    {
     "data": {
      "text/plain": [
       "'C:\\\\Users\\\\Harish\\\\DataScience'"
      ]
     },
     "execution_count": 54,
     "metadata": {},
     "output_type": "execute_result"
    }
   ],
   "source": [
    "os.chdir(\"C:\\\\Users\\\\Harish\\\\DataScience\")\n",
    "os.getcwd()"
   ]
  },
  {
   "cell_type": "code",
   "execution_count": 55,
   "id": "002add64",
   "metadata": {},
   "outputs": [],
   "source": [
    "file.flush()"
   ]
  },
  {
   "cell_type": "code",
   "execution_count": 56,
   "id": "4f33df69",
   "metadata": {},
   "outputs": [
    {
     "data": {
      "text/plain": [
       "4"
      ]
     },
     "execution_count": 56,
     "metadata": {},
     "output_type": "execute_result"
    }
   ],
   "source": [
    "file.fileno()"
   ]
  },
  {
   "cell_type": "code",
   "execution_count": 57,
   "id": "e499379c",
   "metadata": {},
   "outputs": [
    {
     "data": {
      "text/plain": [
       "'walMadhu'"
      ]
     },
     "execution_count": 57,
     "metadata": {},
     "output_type": "execute_result"
    }
   ],
   "source": [
    "file.readline()"
   ]
  },
  {
   "cell_type": "code",
   "execution_count": 58,
   "id": "cc2bcf1d",
   "metadata": {},
   "outputs": [
    {
     "data": {
      "text/plain": [
       "[]"
      ]
     },
     "execution_count": 58,
     "metadata": {},
     "output_type": "execute_result"
    }
   ],
   "source": [
    "file.readlines()"
   ]
  },
  {
   "cell_type": "code",
   "execution_count": 60,
   "id": "4cee47d9",
   "metadata": {},
   "outputs": [],
   "source": [
    "file.close()"
   ]
  },
  {
   "cell_type": "code",
   "execution_count": 62,
   "id": "de580c88",
   "metadata": {},
   "outputs": [
    {
     "name": "stdout",
     "output_type": "stream",
     "text": [
      "None\n"
     ]
    }
   ],
   "source": [
    "file=open(\"file.txt\",'w')\n",
    "x=file.writelines(\"sequence\")"
   ]
  },
  {
   "cell_type": "code",
   "execution_count": null,
   "id": "142b57c0",
   "metadata": {},
   "outputs": [],
   "source": []
  },
  {
   "cell_type": "code",
   "execution_count": 65,
   "id": "912c6ab4",
   "metadata": {},
   "outputs": [
    {
     "name": "stdout",
     "output_type": "stream",
     "text": [
      "['C:\\\\Users\\\\Harish\\\\AppData\\\\Roaming\\\\Python\\\\Python39\\\\site-packages\\\\ipykernel_launcher.py', '-f', 'C:\\\\Users\\\\Harish\\\\AppData\\\\Roaming\\\\jupyter\\\\runtime\\\\kernel-7e52147e-53bd-4c24-a960-84bbbae07454.json']\n",
      "<class 'list'>\n"
     ]
    }
   ],
   "source": []
  },
  {
   "cell_type": "code",
   "execution_count": null,
   "id": "a120935f",
   "metadata": {},
   "outputs": [],
   "source": []
  }
 ],
 "metadata": {
  "kernelspec": {
   "display_name": "Python 3 (ipykernel)",
   "language": "python",
   "name": "python3"
  },
  "language_info": {
   "codemirror_mode": {
    "name": "ipython",
    "version": 3
   },
   "file_extension": ".py",
   "mimetype": "text/x-python",
   "name": "python",
   "nbconvert_exporter": "python",
   "pygments_lexer": "ipython3",
   "version": "3.9.12"
  }
 },
 "nbformat": 4,
 "nbformat_minor": 5
}
