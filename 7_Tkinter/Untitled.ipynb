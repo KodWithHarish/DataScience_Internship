{
 "cells": [
  {
   "cell_type": "markdown",
   "id": "cd5b3800",
   "metadata": {},
   "source": [
    "# Tkinter"
   ]
  },
  {
   "cell_type": "markdown",
   "id": "2a874af4",
   "metadata": {},
   "source": [
    "Tkinter is the standard GUI library for Python. Python when combined with Tkinter provides\n",
    "a fast and easy way to create GUI applications. Tkinter provides a powerful object-oriented\n",
    "interface to the Tk GUI toolkit."
   ]
  },
  {
   "cell_type": "code",
   "execution_count": 1,
   "id": "c151e081",
   "metadata": {},
   "outputs": [],
   "source": [
    "from tkinter import *  \n",
    "#creating the application main window.   \n",
    "top = Tk()  \n",
    "#Entering the event main loop  \n",
    "top.mainloop()  "
   ]
  },
  {
   "cell_type": "markdown",
   "id": "65ed019c",
   "metadata": {},
   "source": [
    "# Tkinter Button"
   ]
  },
  {
   "cell_type": "code",
   "execution_count": 3,
   "id": "f2f324de",
   "metadata": {},
   "outputs": [],
   "source": [
    "from tkinter import *\n",
    "from tkinter import messagebox\n",
    "top = Tk()\n",
    "top.geometry(\"100x100\")\n",
    "def helloCallBack():\n",
    "    msg=messagebox.showinfo( \"Hello Python\", \"Hello World\")\n",
    "B = Button(top, text =\"Hello\", command = helloCallBack)\n",
    "B.place(x=50,y=50)\n",
    "top.mainloop()"
   ]
  },
  {
   "cell_type": "code",
   "execution_count": null,
   "id": "ee9a2eef",
   "metadata": {},
   "outputs": [],
   "source": []
  }
 ],
 "metadata": {
  "kernelspec": {
   "display_name": "Python 3 (ipykernel)",
   "language": "python",
   "name": "python3"
  },
  "language_info": {
   "codemirror_mode": {
    "name": "ipython",
    "version": 3
   },
   "file_extension": ".py",
   "mimetype": "text/x-python",
   "name": "python",
   "nbconvert_exporter": "python",
   "pygments_lexer": "ipython3",
   "version": "3.9.12"
  }
 },
 "nbformat": 4,
 "nbformat_minor": 5
}
