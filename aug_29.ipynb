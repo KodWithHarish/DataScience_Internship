{
 "cells": [
  {
   "cell_type": "code",
   "execution_count": 10,
   "id": "e1c0cfe0",
   "metadata": {},
   "outputs": [
    {
     "name": "stdout",
     "output_type": "stream",
     "text": [
      "<class 'int'>\n",
      "<class 'float'>\n",
      "<class 'bool'>\n",
      "<class 'complex'>\n",
      "140709047818344\n"
     ]
    }
   ],
   "source": [
    "a=10\n",
    "b=20.1\n",
    "c=True\n",
    "z=1+4j\n",
    "\n",
    "print(type(a))\n",
    "print(type(b))\n",
    "print(type(c))\n",
    "print(type(z))\n",
    "print(id(c))"
   ]
  },
  {
   "cell_type": "code",
   "execution_count": null,
   "id": "49d0b926",
   "metadata": {},
   "outputs": [],
   "source": [
    "# convert datatypes"
   ]
  },
  {
   "cell_type": "code",
   "execution_count": 12,
   "id": "8d5c2ad4",
   "metadata": {},
   "outputs": [
    {
     "name": "stdout",
     "output_type": "stream",
     "text": [
      "10.0\n",
      "<class 'float'>\n"
     ]
    }
   ],
   "source": [
    "a=float(a)\n",
    "print(a)\n",
    "print(type(a))"
   ]
  },
  {
   "cell_type": "code",
   "execution_count": 76,
   "id": "0770f740",
   "metadata": {},
   "outputs": [
    {
     "name": "stdout",
     "output_type": "stream",
     "text": [
      "10\n",
      "<class 'int'>\n"
     ]
    }
   ],
   "source": [
    "z=int(z)\n",
    "print(z)\n",
    "print(type(z))"
   ]
  },
  {
   "cell_type": "code",
   "execution_count": 15,
   "id": "481fdb0a",
   "metadata": {},
   "outputs": [
    {
     "name": "stdout",
     "output_type": "stream",
     "text": [
      "<class 'str'>\n",
      "(1+4j)\n"
     ]
    }
   ],
   "source": [
    "z=str(z)\n",
    "print(type(z))\n",
    "print(z)"
   ]
  },
  {
   "cell_type": "code",
   "execution_count": 17,
   "id": "7545fe17",
   "metadata": {},
   "outputs": [
    {
     "name": "stdout",
     "output_type": "stream",
     "text": [
      "(10+20j)\n"
     ]
    }
   ],
   "source": [
    "a = complex(a,10)\n",
    "print(a)"
   ]
  },
  {
   "cell_type": "code",
   "execution_count": null,
   "id": "420624c6",
   "metadata": {},
   "outputs": [],
   "source": [
    "# Sequence\n",
    "# 1. string\n",
    "# 2. list\n",
    "# 3. tuple"
   ]
  },
  {
   "cell_type": "markdown",
   "id": "5e4a7145",
   "metadata": {},
   "source": [
    "# String"
   ]
  },
  {
   "cell_type": "code",
   "execution_count": 19,
   "id": "86282645",
   "metadata": {},
   "outputs": [
    {
     "name": "stdout",
     "output_type": "stream",
     "text": [
      "abcdef\n"
     ]
    }
   ],
   "source": [
    "s=\"abcdef\"\n",
    "print(s)"
   ]
  },
  {
   "cell_type": "code",
   "execution_count": 3,
   "id": "a88a1703",
   "metadata": {},
   "outputs": [
    {
     "name": "stdout",
     "output_type": "stream",
     "text": [
      "Hello World!\n",
      "H\n",
      "llo\n",
      "llo World!\n",
      "Hello World!Hello World!\n",
      "Hello World!TEST\n"
     ]
    }
   ],
   "source": [
    "str = 'Hello World!'\n",
    "print (str)\n",
    "print (str[0]) \n",
    "print (str[2:5]) \n",
    "print (str[2:]) \n",
    "print (str * 2) \n",
    "print (str + \"TEST\") "
   ]
  },
  {
   "cell_type": "code",
   "execution_count": 30,
   "id": "2fa7cd20",
   "metadata": {},
   "outputs": [
    {
     "name": "stdout",
     "output_type": "stream",
     "text": [
      "liahseerhs\n"
     ]
    }
   ],
   "source": [
    "# Reverse \n",
    "name=\"shreeshail\"\n",
    "print(name[-1::-1])"
   ]
  },
  {
   "cell_type": "markdown",
   "id": "bc8d6434",
   "metadata": {},
   "source": [
    "# List"
   ]
  },
  {
   "cell_type": "code",
   "execution_count": 31,
   "id": "299e5fea",
   "metadata": {},
   "outputs": [],
   "source": [
    "x=[1,1.9,2+9,2+4j,True,\"apple\",[1,2,3]]"
   ]
  },
  {
   "cell_type": "code",
   "execution_count": 32,
   "id": "b2b7c7ca",
   "metadata": {},
   "outputs": [
    {
     "name": "stdout",
     "output_type": "stream",
     "text": [
      "[1, 1.9, 11, (2+4j), True, 'apple', [1, 2, 3]]\n"
     ]
    }
   ],
   "source": [
    "print(x)"
   ]
  },
  {
   "cell_type": "code",
   "execution_count": 33,
   "id": "656a43df",
   "metadata": {},
   "outputs": [
    {
     "name": "stdout",
     "output_type": "stream",
     "text": [
      "1\n"
     ]
    }
   ],
   "source": [
    "print(x[0])"
   ]
  },
  {
   "cell_type": "code",
   "execution_count": 34,
   "id": "676bcf2f",
   "metadata": {},
   "outputs": [
    {
     "name": "stdout",
     "output_type": "stream",
     "text": [
      "3\n"
     ]
    }
   ],
   "source": [
    "print(x[6][2])"
   ]
  },
  {
   "cell_type": "code",
   "execution_count": 35,
   "id": "5dfc24c5",
   "metadata": {},
   "outputs": [
    {
     "name": "stdout",
     "output_type": "stream",
     "text": [
      "p\n"
     ]
    }
   ],
   "source": [
    "print(x[5][2])"
   ]
  },
  {
   "cell_type": "code",
   "execution_count": 2,
   "id": "841574c8",
   "metadata": {},
   "outputs": [
    {
     "name": "stdout",
     "output_type": "stream",
     "text": [
      "['abcd', 786, 2.23, 'john', 70.2]\n",
      "abcd\n",
      "[786, 2.23]\n",
      "[2.23, 'john', 70.2]\n",
      "[123, 'john', 123, 'john']\n",
      "['abcd', 786, 2.23, 'john', 70.2, 123, 'john']\n"
     ]
    }
   ],
   "source": [
    "list = [ 'abcd', 786 , 2.23, 'john', 70.2 ]\n",
    "tinylist = [123, 'john']\n",
    "print (list) \n",
    "print (list[0]) \n",
    "print (list[1:3]) \n",
    "print (list[2:]) \n",
    "print (tinylist * 2)\n",
    "print (list + tinylist)"
   ]
  },
  {
   "cell_type": "markdown",
   "id": "b1c78c0e",
   "metadata": {},
   "source": [
    "# sets"
   ]
  },
  {
   "cell_type": "code",
   "execution_count": 37,
   "id": "310ed037",
   "metadata": {},
   "outputs": [
    {
     "name": "stdout",
     "output_type": "stream",
     "text": [
      "{1, 2, 3, 4}\n"
     ]
    }
   ],
   "source": [
    "s={1,1,2,2,3,2,4}\n",
    "print(s)"
   ]
  },
  {
   "cell_type": "markdown",
   "id": "66b39233",
   "metadata": {},
   "source": [
    "# dictionay"
   ]
  },
  {
   "cell_type": "code",
   "execution_count": 43,
   "id": "c47d539b",
   "metadata": {},
   "outputs": [
    {
     "name": "stdout",
     "output_type": "stream",
     "text": [
      "{1: 'int', 2.14: 'Float', (2+3j): 'Complex', 'str': 'String', (1, 2, 3): 'Tuple'}\n"
     ]
    }
   ],
   "source": [
    "d={1:\"int\",2.14:\"Float\",(2+3j):\"Complex\",\"str\":\"String\",(1,2,3):\"Tuple\"}\n",
    "print(d)"
   ]
  },
  {
   "cell_type": "code",
   "execution_count": 6,
   "id": "3bb8bf31",
   "metadata": {},
   "outputs": [
    {
     "name": "stdout",
     "output_type": "stream",
     "text": [
      "This is one\n",
      "This is two\n",
      "{'name': 'john', 'code': 6734, 'dept': 'sales'}\n",
      "dict_keys(['name', 'code', 'dept'])\n",
      "dict_values(['john', 6734, 'sales'])\n"
     ]
    }
   ],
   "source": [
    "dict = {}\n",
    "dict['one'] = \"This is one\"\n",
    "dict[2] = \"This is two\"\n",
    "t = {'name': 'john','code':6734, 'dept': 'sales'}\n",
    "print (dict['one']) \n",
    "print (dict[2]) \n",
    "print (t) \n",
    "print (t.keys()) \n",
    "print (t.values()) "
   ]
  },
  {
   "cell_type": "markdown",
   "id": "4b33ffbc",
   "metadata": {},
   "source": [
    "# tuple"
   ]
  },
  {
   "cell_type": "code",
   "execution_count": 51,
   "id": "a30c6c3a",
   "metadata": {},
   "outputs": [
    {
     "name": "stdout",
     "output_type": "stream",
     "text": [
      "(1, 2, 3, 4)\n"
     ]
    }
   ],
   "source": [
    "t=(1,2,3,4)\n",
    "print(t)"
   ]
  },
  {
   "cell_type": "code",
   "execution_count": 4,
   "id": "903c3412",
   "metadata": {},
   "outputs": [
    {
     "name": "stdout",
     "output_type": "stream",
     "text": [
      "('abcd', 786, 2.23, 'john', 70.2)\n",
      "abcd\n",
      "(786, 2.23)\n",
      "(2.23, 'john', 70.2)\n",
      "(123, 'john', 123, 'john')\n",
      "('abcd', 786, 2.23, 'john', 70.2, 123, 'john')\n"
     ]
    }
   ],
   "source": [
    "tuple = ( 'abcd', 786 , 2.23, 'john', 70.2 )\n",
    "t = (123, 'john')\n",
    "print (tuple) \n",
    "print (tuple[0]) \n",
    "print (tuple[1:3]) \n",
    "print (tuple[2:])\n",
    "print (t * 2) \n",
    "print (tuple + t) "
   ]
  },
  {
   "cell_type": "code",
   "execution_count": 60,
   "id": "835ec607",
   "metadata": {},
   "outputs": [
    {
     "name": "stdout",
     "output_type": "stream",
     "text": [
      "False\n",
      "True\n",
      "True\n",
      "False\n",
      "False\n",
      "True\n"
     ]
    }
   ],
   "source": [
    "a=10\n",
    "b=20\n",
    "print(a==b)\n",
    "print(a!=b)\n",
    "# (a=b)\n",
    "print(a<=b)\n",
    "print(a>=b)\n",
    "print(a>b)\n",
    "print(a<b)"
   ]
  },
  {
   "cell_type": "code",
   "execution_count": null,
   "id": "6bbd34a8",
   "metadata": {},
   "outputs": [],
   "source": [
    "# Arithmetic Operators + - * ** / // %\n",
    "# Comparison Operators == != > < >= <=\n",
    "# Assignment Operators = += -= *= **= /= //= %=\n",
    "# Bitwise Operators & | ^ << >> ~\n",
    "# Logical Operators AND OR NOT\n",
    "# Membership Operators in not-in\n",
    "# Identity Operators is is-not"
   ]
  },
  {
   "cell_type": "markdown",
   "id": "7133ce49",
   "metadata": {},
   "source": [
    "# Membership Operators"
   ]
  },
  {
   "cell_type": "code",
   "execution_count": 70,
   "id": "7980ee7f",
   "metadata": {},
   "outputs": [
    {
     "name": "stdout",
     "output_type": "stream",
     "text": [
      "True\n",
      "False\n",
      "False\n"
     ]
    }
   ],
   "source": [
    "a=[1,2,3,4]\n",
    "s=\"abc\"\n",
    "print(1 in a)\n",
    "print(6 in a)\n",
    "print('b' not in s)"
   ]
  },
  {
   "cell_type": "markdown",
   "id": "4e1249ba",
   "metadata": {},
   "source": [
    "# Identity Operators`"
   ]
  },
  {
   "cell_type": "code",
   "execution_count": 75,
   "id": "ff0007bb",
   "metadata": {},
   "outputs": [
    {
     "name": "stdout",
     "output_type": "stream",
     "text": [
      "2788936608656\n",
      "2788936608656\n",
      "False\n",
      "True\n"
     ]
    }
   ],
   "source": [
    "a=b=c=20\n",
    "x=y=z=10\n",
    "print(id(a))\n",
    "print(id(b))\n",
    "\n",
    "print(a is x)\n",
    "print(a is not x)"
   ]
  },
  {
   "cell_type": "code",
   "execution_count": null,
   "id": "7899861e",
   "metadata": {},
   "outputs": [],
   "source": []
  },
  {
   "cell_type": "code",
   "execution_count": null,
   "id": "eed9ba61",
   "metadata": {},
   "outputs": [],
   "source": []
  }
 ],
 "metadata": {
  "kernelspec": {
   "display_name": "Python 3 (ipykernel)",
   "language": "python",
   "name": "python3"
  },
  "language_info": {
   "codemirror_mode": {
    "name": "ipython",
    "version": 3
   },
   "file_extension": ".py",
   "mimetype": "text/x-python",
   "name": "python",
   "nbconvert_exporter": "python",
   "pygments_lexer": "ipython3",
   "version": "3.9.12"
  }
 },
 "nbformat": 4,
 "nbformat_minor": 5
}
