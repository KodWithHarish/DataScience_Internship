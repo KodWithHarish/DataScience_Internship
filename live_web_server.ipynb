{
 "cells": [
  {
   "cell_type": "code",
   "execution_count": null,
   "id": "80f6bce2",
   "metadata": {},
   "outputs": [
    {
     "name": "stdout",
     "output_type": "stream",
     "text": [
      " * Serving Flask app \"__main__\" (lazy loading)\n",
      " * Environment: production\n",
      "\u001b[31m   WARNING: This is a development server. Do not use it in a production deployment.\u001b[0m\n",
      "\u001b[2m   Use a production WSGI server instead.\u001b[0m\n",
      " * Debug mode: off\n"
     ]
    },
    {
     "name": "stderr",
     "output_type": "stream",
     "text": [
      " * Running on http://127.0.0.1:5000/ (Press CTRL+C to quit)\n"
     ]
    }
   ],
   "source": [
    "from flask import Flask\n",
    "app=Flask(__name__)\n",
    "@app.route(\"/\")\n",
    "def fun1():\n",
    "    return \"Home Page\"\n",
    "@app.route(\"/tech\")\n",
    "def fun2():\n",
    "    return \"Tech Page\"\n",
    "@app.route(\"/techno\")\n",
    "def fun3():\n",
    "    return \"Techno Page\"\n",
    "if __name__ ==\"__main__\":\n",
    "    app.run()"
   ]
  },
  {
   "cell_type": "code",
   "execution_count": null,
   "id": "b3925ee7",
   "metadata": {},
   "outputs": [
    {
     "name": "stdout",
     "output_type": "stream",
     "text": [
      " * Serving Flask app \"__main__\" (lazy loading)\n",
      " * Environment: production\n",
      "\u001b[31m   WARNING: This is a development server. Do not use it in a production deployment.\u001b[0m\n",
      "\u001b[2m   Use a production WSGI server instead.\u001b[0m\n",
      " * Debug mode: off\n"
     ]
    },
    {
     "name": "stderr",
     "output_type": "stream",
     "text": [
      " * Running on http://127.0.0.1:5000/ (Press CTRL+C to quit)\n",
      "127.0.0.1 - - [10/Sep/2022 13:05:43] \"GET / HTTP/1.1\" 200 -\n",
      "127.0.0.1 - - [10/Sep/2022 13:05:44] \"GET /favicon.ico HTTP/1.1\" 404 -\n",
      "127.0.0.1 - - [10/Sep/2022 13:05:48] \"GET /cola HTTP/1.1\" 200 -\n",
      "127.0.0.1 - - [10/Sep/2022 13:05:48] \"GET /Cola.css HTTP/1.1\" 404 -\n",
      "127.0.0.1 - - [10/Sep/2022 13:05:48] \"GET /logo.png HTTP/1.1\" 404 -\n",
      "127.0.0.1 - - [10/Sep/2022 13:05:48] \"GET /pepsi001.png HTTP/1.1\" 404 -\n",
      "127.0.0.1 - - [10/Sep/2022 13:05:48] \"GET /pepsi002.png HTTP/1.1\" 404 -\n",
      "127.0.0.1 - - [10/Sep/2022 13:05:48] \"GET /pepsi003.png HTTP/1.1\" 404 -\n",
      "127.0.0.1 - - [10/Sep/2022 13:05:49] \"GET /logo.png HTTP/1.1\" 404 -\n"
     ]
    }
   ],
   "source": [
    "from flask import Flask,render_template\n",
    "app=Flask(__name__)\n",
    "@app.route(\"/\")\n",
    "def fun1():\n",
    "    return \"Home Page\"\n",
    "@app.route(\"/main\")\n",
    "def fun2():\n",
    "    return render_template(\"main.html\")\n",
    "@app.route(\"/cola\")\n",
    "def fun3():\n",
    "    return render_template(\"Cola.html\")\n",
    "if __name__ ==\"__main__\":\n",
    "    app.run()"
   ]
  },
  {
   "cell_type": "code",
   "execution_count": null,
   "id": "d1318343",
   "metadata": {},
   "outputs": [],
   "source": []
  }
 ],
 "metadata": {
  "kernelspec": {
   "display_name": "Python 3 (ipykernel)",
   "language": "python",
   "name": "python3"
  },
  "language_info": {
   "codemirror_mode": {
    "name": "ipython",
    "version": 3
   },
   "file_extension": ".py",
   "mimetype": "text/x-python",
   "name": "python",
   "nbconvert_exporter": "python",
   "pygments_lexer": "ipython3",
   "version": "3.9.12"
  }
 },
 "nbformat": 4,
 "nbformat_minor": 5
}
