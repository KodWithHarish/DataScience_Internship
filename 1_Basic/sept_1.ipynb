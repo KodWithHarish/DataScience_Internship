{
 "cells": [
  {
   "cell_type": "markdown",
   "id": "1d3044c7",
   "metadata": {},
   "source": [
    "# Random Number Functions\n",
    "choice randrange random seed shuffle uniform"
   ]
  },
  {
   "cell_type": "code",
   "execution_count": 15,
   "id": "549d5b61",
   "metadata": {},
   "outputs": [
    {
     "name": "stdout",
     "output_type": "stream",
     "text": [
      "27\n",
      "5\n",
      "d\n",
      "4\n"
     ]
    }
   ],
   "source": [
    "# choice\n",
    "import random\n",
    "print(random.choice(range(100)))\n",
    "print(random.choice([1,2, 3, 5, 9]))\n",
    "print(random.choice('Hello World'))\n",
    "print(random.choice((1,2,3,4,5)))"
   ]
  },
  {
   "cell_type": "code",
   "execution_count": 27,
   "id": "2cefb4a6",
   "metadata": {},
   "outputs": [
    {
     "name": "stdout",
     "output_type": "stream",
     "text": [
      "67\n",
      "91\n"
     ]
    }
   ],
   "source": [
    "# randrange\n",
    "print(random.randrange(100))\n",
    "print(random.randrange(1, 100, 2))"
   ]
  },
  {
   "cell_type": "code",
   "execution_count": 20,
   "id": "02ef9c5b",
   "metadata": {},
   "outputs": [
    {
     "data": {
      "text/plain": [
       "0.8776696172160942"
      ]
     },
     "execution_count": 20,
     "metadata": {},
     "output_type": "execute_result"
    }
   ],
   "source": [
    "# random\n",
    "random.random()"
   ]
  },
  {
   "cell_type": "code",
   "execution_count": 10,
   "id": "e3f8c477",
   "metadata": {},
   "outputs": [
    {
     "name": "stdout",
     "output_type": "stream",
     "text": [
      "0.029206096043032037\n",
      "0.5714025946899135\n",
      "0.3537754404730722\n"
     ]
    }
   ],
   "source": [
    "# seed\n",
    "import random\n",
    "random.seed()\n",
    "print (random.random())\n",
    "random.seed(10)\n",
    "print (random.random())\n",
    "random.seed(\"hello\",2)\n",
    "print (random.random())"
   ]
  },
  {
   "cell_type": "code",
   "execution_count": 15,
   "id": "f29e4f19",
   "metadata": {},
   "outputs": [
    {
     "name": "stdout",
     "output_type": "stream",
     "text": [
      "[10, 5, 20, 16]\n"
     ]
    }
   ],
   "source": [
    "# shuffle\n",
    "import random\n",
    "list = [20, 16, 10, 5];\n",
    "random.shuffle(list)\n",
    "print(list)"
   ]
  },
  {
   "cell_type": "code",
   "execution_count": 17,
   "id": "4d7c1a26",
   "metadata": {},
   "outputs": [
    {
     "name": "stdout",
     "output_type": "stream",
     "text": [
      "7.346848831423405\n"
     ]
    }
   ],
   "source": [
    "# uniform\n",
    "print (random.uniform(5, 10))"
   ]
  },
  {
   "cell_type": "markdown",
   "id": "6c924f5b",
   "metadata": {},
   "source": [
    "# Trigonometric Functions\n",
    "acos asin atan2 cos hypot sin tan degrees radians"
   ]
  },
  {
   "cell_type": "code",
   "execution_count": 22,
   "id": "f7d9683a",
   "metadata": {},
   "outputs": [
    {
     "name": "stdout",
     "output_type": "stream",
     "text": [
      "acos(1) :  0.0\n"
     ]
    }
   ],
   "source": [
    "# acos\n",
    "import math\n",
    "print (\"acos(1) : \", math.acos(1))"
   ]
  },
  {
   "cell_type": "code",
   "execution_count": 23,
   "id": "e7925e60",
   "metadata": {},
   "outputs": [
    {
     "name": "stdout",
     "output_type": "stream",
     "text": [
      "asin(1) :  1.5707963267948966\n"
     ]
    }
   ],
   "source": [
    "# asin\n",
    "print (\"asin(1) : \", math.asin(1))"
   ]
  },
  {
   "cell_type": "code",
   "execution_count": 24,
   "id": "3f317b25",
   "metadata": {},
   "outputs": [
    {
     "name": "stdout",
     "output_type": "stream",
     "text": [
      "atan(1) :  0.7853981633974483\n"
     ]
    }
   ],
   "source": [
    "# returns atan(y / x)\n",
    "print (\"atan(1) : \", math.atan(1))"
   ]
  },
  {
   "cell_type": "code",
   "execution_count": 25,
   "id": "0a47347c",
   "metadata": {},
   "outputs": [
    {
     "name": "stdout",
     "output_type": "stream",
     "text": [
      "atan2(10,20) :  0.4636476090008061\n"
     ]
    }
   ],
   "source": [
    "# atan2\n",
    "print (\"atan2(10,20) : \", math.atan2(10,20))"
   ]
  },
  {
   "cell_type": "code",
   "execution_count": 27,
   "id": "28d7e189",
   "metadata": {},
   "outputs": [
    {
     "name": "stdout",
     "output_type": "stream",
     "text": [
      "cos(0) :  1.0\n"
     ]
    }
   ],
   "source": [
    "# cos\n",
    "print (\"cos(0) : \", math.cos(0))"
   ]
  },
  {
   "cell_type": "code",
   "execution_count": 28,
   "id": "eba266bd",
   "metadata": {},
   "outputs": [
    {
     "name": "stdout",
     "output_type": "stream",
     "text": [
      "hypot(0, 2) :  2.0\n"
     ]
    }
   ],
   "source": [
    "# returns Euclidean norm, sqrt(x*x + y*y)\n",
    "print (\"hypot(0, 2) : \", math.hypot(0, 2))"
   ]
  },
  {
   "cell_type": "code",
   "execution_count": 29,
   "id": "9617f7bc",
   "metadata": {},
   "outputs": [
    {
     "name": "stdout",
     "output_type": "stream",
     "text": [
      "sin(0) :  0.0\n"
     ]
    }
   ],
   "source": [
    "# sin\n",
    "print (\"sin(0) : \", math.sin(0))"
   ]
  },
  {
   "cell_type": "code",
   "execution_count": 30,
   "id": "1513a7eb",
   "metadata": {},
   "outputs": [
    {
     "name": "stdout",
     "output_type": "stream",
     "text": [
      "tan(0) :  0.0\n"
     ]
    }
   ],
   "source": [
    "# tan\n",
    "print (\"tan(0) : \", math.sin(0))"
   ]
  },
  {
   "cell_type": "code",
   "execution_count": 33,
   "id": "8941ab9c",
   "metadata": {},
   "outputs": [
    {
     "name": "stdout",
     "output_type": "stream",
     "text": [
      "degrees(math.pi) :  180.0\n",
      "degrees(-4) :  -229.1831180523293\n"
     ]
    }
   ],
   "source": [
    "# degrees\n",
    "print (\"degrees(math.pi) : \", math.degrees(math.pi))\n",
    "print (\"degrees(-4) : \", math.degrees(-4))"
   ]
  },
  {
   "cell_type": "code",
   "execution_count": 34,
   "id": "b81d79b3",
   "metadata": {},
   "outputs": [
    {
     "name": "stdout",
     "output_type": "stream",
     "text": [
      "radians(math.pi/2) :  0.027415567780803774\n"
     ]
    }
   ],
   "source": [
    "# radians\n",
    "print (\"radians(math.pi/2) : \", math.radians(math.pi/2))"
   ]
  },
  {
   "cell_type": "code",
   "execution_count": 36,
   "id": "3eb4e363",
   "metadata": {},
   "outputs": [
    {
     "name": "stdout",
     "output_type": "stream",
     "text": [
      "3.141592653589793\n",
      "2.718281828459045\n"
     ]
    }
   ],
   "source": [
    "print(math.pi)\n",
    "print(math.e)"
   ]
  },
  {
   "cell_type": "markdown",
   "id": "917c5067",
   "metadata": {},
   "source": [
    "# String"
   ]
  },
  {
   "cell_type": "code",
   "execution_count": 37,
   "id": "aa21f9a6",
   "metadata": {},
   "outputs": [
    {
     "name": "stdout",
     "output_type": "stream",
     "text": [
      "My name is Zara and weight is 21 kg!\n"
     ]
    }
   ],
   "source": [
    "print (\"My name is %s and weight is %d kg!\" % ('Zara', 21))"
   ]
  },
  {
   "cell_type": "code",
   "execution_count": 39,
   "id": "480fd286",
   "metadata": {},
   "outputs": [
    {
     "name": "stdout",
     "output_type": "stream",
     "text": [
      "C:\\nowhere\n",
      "C:\\\\nowhere\n"
     ]
    }
   ],
   "source": [
    "# rawstring\n",
    "print ('C:\\\\nowhere')\n",
    "print (r'C:\\\\nowhere')"
   ]
  },
  {
   "cell_type": "markdown",
   "id": "4cf6bf6b",
   "metadata": {},
   "source": [
    "# Unicode String\n",
    "capitalize center count encode-decode endswith expandtabs find index isalnum\n",
    "isalpha isdigit islower isnumeric isspace istitle isupper join ljust rjust\n",
    "lower upper lstrip rstrip strip maketrans rfind rindex split splitlines startswith swapcase title zfill isdecimal"
   ]
  },
  {
   "cell_type": "code",
   "execution_count": 40,
   "id": "d1c0bd2b",
   "metadata": {},
   "outputs": [
    {
     "data": {
      "text/plain": [
       "'Abc'"
      ]
     },
     "execution_count": 40,
     "metadata": {},
     "output_type": "execute_result"
    }
   ],
   "source": [
    "'abc'.capitalize()"
   ]
  },
  {
   "cell_type": "code",
   "execution_count": 42,
   "id": "59e6eab5",
   "metadata": {},
   "outputs": [
    {
     "data": {
      "text/plain": [
       "'aaaxyzaaaa'"
      ]
     },
     "execution_count": 42,
     "metadata": {},
     "output_type": "execute_result"
    }
   ],
   "source": [
    "'xyz'.center(10, 'a')"
   ]
  },
  {
   "cell_type": "code",
   "execution_count": 88,
   "id": "91f3f817",
   "metadata": {},
   "outputs": [
    {
     "data": {
      "text/plain": [
       "1"
      ]
     },
     "execution_count": 88,
     "metadata": {},
     "output_type": "execute_result"
    }
   ],
   "source": [
    "# s.count(sub, start= 0,end=len(string))\n",
    "str=\"harish\"\n",
    "sub='h'\n",
    "str.count(sub,1,40)"
   ]
  },
  {
   "cell_type": "code",
   "execution_count": 59,
   "id": "df061640",
   "metadata": {},
   "outputs": [
    {
     "name": "stdout",
     "output_type": "stream",
     "text": [
      "Encoded String:  b'ZXhhbXBsZS4uLi53b3chISE='\n"
     ]
    }
   ],
   "source": [
    "# s.decode(encoding='UTF-8',errors='strict')\n",
    "import base64\n",
    "s = \"example....wow!!!\"\n",
    "e=base64.b64encode(s.encode('utf-8',errors='strict'))\n",
    "print (\"Encoded String: \" , e)\n",
    "# d=base64.b64decode(e.decode('utf-8',errors='strict'))\n",
    "# print(\"Decoded String: \" , e)"
   ]
  },
  {
   "cell_type": "code",
   "execution_count": 90,
   "id": "424d211c",
   "metadata": {},
   "outputs": [
    {
     "name": "stdout",
     "output_type": "stream",
     "text": [
      "True\n"
     ]
    }
   ],
   "source": [
    "# endswith\n",
    "print ('Str'.endswith('r'))"
   ]
  },
  {
   "cell_type": "code",
   "execution_count": 70,
   "id": "9ebb8786",
   "metadata": {},
   "outputs": [
    {
     "name": "stdout",
     "output_type": "stream",
     "text": [
      "tab     exapanded tab: \n",
      "Double          exapanded tab: \n"
     ]
    }
   ],
   "source": [
    "# expandtabs\n",
    "print (\"tab\\texapanded tab: \".expandtabs())\n",
    "print (\"Double\\texapanded tab: \".expandtabs(16))"
   ]
  },
  {
   "cell_type": "code",
   "execution_count": 92,
   "id": "c03b2073",
   "metadata": {},
   "outputs": [
    {
     "name": "stdout",
     "output_type": "stream",
     "text": [
      "0\n",
      "5\n",
      "-1\n"
     ]
    }
   ],
   "source": [
    "# find\n",
    "print ('harish'.find('h'))\n",
    "print ('harish'.find('h',1))\n",
    "print ('harish'.find('h',6))"
   ]
  },
  {
   "cell_type": "code",
   "execution_count": 97,
   "id": "60b09782",
   "metadata": {},
   "outputs": [
    {
     "name": "stdout",
     "output_type": "stream",
     "text": [
      "3\n",
      "5\n"
     ]
    }
   ],
   "source": [
    "# index\n",
    "str1=\"kumbhar\"\n",
    "str2='bh'\n",
    "print (str1.index(str2))\n",
    "print (str1.index('a', 5))"
   ]
  },
  {
   "cell_type": "code",
   "execution_count": 103,
   "id": "4bf287e3",
   "metadata": {},
   "outputs": [
    {
     "name": "stdout",
     "output_type": "stream",
     "text": [
      "True\n"
     ]
    }
   ],
   "source": [
    "# isalnum\n",
    "str = \"this2016\" # No space in this string\n",
    "print (str.isalnum())"
   ]
  },
  {
   "cell_type": "code",
   "execution_count": 101,
   "id": "6df18f9c",
   "metadata": {},
   "outputs": [
    {
     "name": "stdout",
     "output_type": "stream",
     "text": [
      "True\n"
     ]
    }
   ],
   "source": [
    "# isalpha\n",
    "str = \"this\"; # No space & digit in this string\n",
    "print (str.isalpha())"
   ]
  },
  {
   "cell_type": "code",
   "execution_count": 106,
   "id": "0abb778b",
   "metadata": {},
   "outputs": [
    {
     "name": "stdout",
     "output_type": "stream",
     "text": [
      "True\n"
     ]
    }
   ],
   "source": [
    "# isdigit\n",
    "str = \"123456\"; # Only digit in this string\n",
    "print (str.isdigit())"
   ]
  },
  {
   "cell_type": "code",
   "execution_count": 109,
   "id": "1d17f846",
   "metadata": {},
   "outputs": [
    {
     "name": "stdout",
     "output_type": "stream",
     "text": [
      "True\n"
     ]
    }
   ],
   "source": [
    "# islower\n",
    "str = \"this is string example....wow!!!\"\n",
    "print (str.islower())"
   ]
  },
  {
   "cell_type": "code",
   "execution_count": 112,
   "id": "d34d7e7c",
   "metadata": {},
   "outputs": [
    {
     "name": "stdout",
     "output_type": "stream",
     "text": [
      "True\n"
     ]
    }
   ],
   "source": [
    "# isnumeric\n",
    "str = \"2016\"\n",
    "print (str.isnumeric())"
   ]
  },
  {
   "cell_type": "code",
   "execution_count": 118,
   "id": "d4a402f7",
   "metadata": {},
   "outputs": [
    {
     "name": "stdout",
     "output_type": "stream",
     "text": [
      "True\n"
     ]
    }
   ],
   "source": [
    "# isspace\n",
    "str = \" \" # only space\n",
    "print (str.isspace())"
   ]
  },
  {
   "cell_type": "code",
   "execution_count": 123,
   "id": "b8fcd613",
   "metadata": {},
   "outputs": [
    {
     "name": "stdout",
     "output_type": "stream",
     "text": [
      "True\n"
     ]
    }
   ],
   "source": [
    "# istitle\n",
    "str = \"This Is String Example...Wow 6Y675!!!\"\n",
    "print (str.istitle())"
   ]
  },
  {
   "cell_type": "code",
   "execution_count": 128,
   "id": "f3722d0f",
   "metadata": {},
   "outputs": [
    {
     "name": "stdout",
     "output_type": "stream",
     "text": [
      "True\n"
     ]
    }
   ],
   "source": [
    "# isupper\n",
    "str = \"THIS!!!\" # only uppercase\n",
    "print (str.isupper())"
   ]
  },
  {
   "cell_type": "code",
   "execution_count": 131,
   "id": "94b09ed5",
   "metadata": {},
   "outputs": [
    {
     "name": "stdout",
     "output_type": "stream",
     "text": [
      "a-b-c\n"
     ]
    }
   ],
   "source": [
    "# join\n",
    "s = \"-\"\n",
    "seq = (\"a\", \"b\", \"c\") \n",
    "print (s.join( seq ))"
   ]
  },
  {
   "cell_type": "code",
   "execution_count": 134,
   "id": "3571e18e",
   "metadata": {},
   "outputs": [
    {
     "data": {
      "text/plain": [
       "2"
      ]
     },
     "execution_count": 134,
     "metadata": {},
     "output_type": "execute_result"
    }
   ],
   "source": [
    "# len\n",
    "s='st';len(s)"
   ]
  },
  {
   "cell_type": "code",
   "execution_count": 136,
   "id": "b95ee388",
   "metadata": {},
   "outputs": [
    {
     "name": "stdout",
     "output_type": "stream",
     "text": [
      "this is string example....wow!!!******************\n"
     ]
    }
   ],
   "source": [
    "# ljust\n",
    "str = \"this is string example....wow!!!\"\n",
    "print (str.ljust(50, '*'))"
   ]
  },
  {
   "cell_type": "code",
   "execution_count": 4,
   "id": "b685a7d9",
   "metadata": {},
   "outputs": [
    {
     "name": "stdout",
     "output_type": "stream",
     "text": [
      "this is string example....wow!!!******************\n"
     ]
    }
   ],
   "source": [
    "# rjust\n",
    "str = \"this is string example....wow!!!\"\n",
    "print (str.ljust(50, '*'))"
   ]
  },
  {
   "cell_type": "code",
   "execution_count": 140,
   "id": "33ecbe0a",
   "metadata": {},
   "outputs": [
    {
     "name": "stdout",
     "output_type": "stream",
     "text": [
      "hk\n",
      "HK\n"
     ]
    }
   ],
   "source": [
    "str=\"Hk\"\n",
    "print(str.lower())\n",
    "print(str.upper())"
   ]
  },
  {
   "cell_type": "code",
   "execution_count": 142,
   "id": "fe4cde27",
   "metadata": {},
   "outputs": [
    {
     "name": "stdout",
     "output_type": "stream",
     "text": [
      "this is string example....wow!!!*****\n"
     ]
    }
   ],
   "source": [
    "# lstrip\n",
    "str = \"*****this is string example....wow!!!*****\"\n",
    "print (str.lstrip('*'))"
   ]
  },
  {
   "cell_type": "code",
   "execution_count": 1,
   "id": "e2d04c54",
   "metadata": {},
   "outputs": [
    {
     "name": "stdout",
     "output_type": "stream",
     "text": [
      "*****this is string example....wow!!!\n"
     ]
    }
   ],
   "source": [
    "# rstrip\n",
    "str = \"*****this is string example....wow!!!*****\"\n",
    "print (str.rstrip('*'))"
   ]
  },
  {
   "cell_type": "code",
   "execution_count": 2,
   "id": "3afbf5d6",
   "metadata": {},
   "outputs": [
    {
     "name": "stdout",
     "output_type": "stream",
     "text": [
      "this is string example....wow!!!\n"
     ]
    }
   ],
   "source": [
    "# strip\n",
    "str = \"*****this is string example....wow!!!*****\"\n",
    "print (str.strip('*'))"
   ]
  },
  {
   "cell_type": "code",
   "execution_count": 144,
   "id": "c841a8da",
   "metadata": {},
   "outputs": [
    {
     "name": "stdout",
     "output_type": "stream",
     "text": [
      "th3s 3s str3ng 2x1mpl2....w4w y45!!!\n"
     ]
    }
   ],
   "source": [
    "# maketrans\n",
    "intab = \"aeiou\"\n",
    "outtab = \"12345\"\n",
    "trantab = str.maketrans(intab, outtab)\n",
    "str = \"this is string example....wow you!!!\"\n",
    "print (str.translate(trantab))"
   ]
  },
  {
   "cell_type": "code",
   "execution_count": 150,
   "id": "c7d41690",
   "metadata": {},
   "outputs": [
    {
     "name": "stdout",
     "output_type": "stream",
     "text": [
      "y\n",
      "!\n"
     ]
    }
   ],
   "source": [
    "str = \"this..you!!!\"\n",
    "print(max(str))\n",
    "print(min(str))"
   ]
  },
  {
   "cell_type": "code",
   "execution_count": 153,
   "id": "bc11747a",
   "metadata": {},
   "outputs": [
    {
     "name": "stdout",
     "output_type": "stream",
     "text": [
      "thwas was string example....wow!!! thwas was really string\n",
      "thwas was string example....wow!!! thwas is really string\n"
     ]
    }
   ],
   "source": [
    "# replace\n",
    "str = \"this is string example....wow!!! this is really string\"\n",
    "print (str.replace(\"is\", \"was\"))\n",
    "print (str.replace(\"is\", \"was\", 3))"
   ]
  },
  {
   "cell_type": "code",
   "execution_count": null,
   "id": "2f2761f0",
   "metadata": {},
   "outputs": [],
   "source": [
    "s"
   ]
  }
 ],
 "metadata": {
  "kernelspec": {
   "display_name": "Python 3 (ipykernel)",
   "language": "python",
   "name": "python3"
  },
  "language_info": {
   "codemirror_mode": {
    "name": "ipython",
    "version": 3
   },
   "file_extension": ".py",
   "mimetype": "text/x-python",
   "name": "python",
   "nbconvert_exporter": "python",
   "pygments_lexer": "ipython3",
   "version": "3.9.12"
  }
 },
 "nbformat": 4,
 "nbformat_minor": 5
}
