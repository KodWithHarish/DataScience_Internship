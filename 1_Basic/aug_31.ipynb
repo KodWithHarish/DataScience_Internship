{
 "cells": [
  {
   "cell_type": "code",
   "execution_count": 4,
   "id": "876ea60c",
   "metadata": {},
   "outputs": [
    {
     "name": "stdout",
     "output_type": "stream",
     "text": [
      "10 a"
     ]
    }
   ],
   "source": [
    "x=10\n",
    "print(x, end=\" a\") "
   ]
  },
  {
   "cell_type": "markdown",
   "id": "42aebe70",
   "metadata": {},
   "source": [
    "# String Function"
   ]
  },
  {
   "cell_type": "code",
   "execution_count": 1,
   "id": "2e73fa9a",
   "metadata": {},
   "outputs": [
    {
     "name": "stdout",
     "output_type": "stream",
     "text": [
      "['This', 'is', 'a', 'string']\n",
      "False\n",
      "True\n",
      "THIS IS A STRING\n",
      "this is a string\n",
      "False\n",
      "False\n",
      "This is a Sentence\n",
      "3\n",
      "8\n"
     ]
    }
   ],
   "source": [
    "str = \"This is a string\"\n",
    "\n",
    "print(str.split())\n",
    "print(str.endswith('h'))\n",
    "print(str.startswith('T'))\n",
    "print(str.upper())\n",
    "print(str.lower())\n",
    "print(str.isupper())\n",
    "print(str.islower())\n",
    "print(str.replace('string','Sentence'))\n",
    "print(str.count('i'))\n",
    "print(str.find('a'))"
   ]
  },
  {
   "cell_type": "markdown",
   "id": "32089254",
   "metadata": {},
   "source": [
    "# Multiline "
   ]
  },
  {
   "cell_type": "code",
   "execution_count": 9,
   "id": "cb7aae60",
   "metadata": {},
   "outputs": [
    {
     "name": "stdout",
     "output_type": "stream",
     "text": [
      "60\n"
     ]
    }
   ],
   "source": [
    "# character (\\) to denote that the line should continue\n",
    "a=10\n",
    "b=20\n",
    "c=30\n",
    "total = a + \\\n",
    "b + \\\n",
    "c\n",
    "print(total)"
   ]
  },
  {
   "cell_type": "code",
   "execution_count": 5,
   "id": "993eba96",
   "metadata": {},
   "outputs": [
    {
     "name": "stdout",
     "output_type": "stream",
     "text": [
      "This is a paragraph. It is\n",
      "made up of multiple lines and sentences.\n"
     ]
    }
   ],
   "source": [
    "para = \"\"\"This is a paragraph. It is\n",
    "made up of multiple lines and sentences.\"\"\"\n",
    "print(para)"
   ]
  },
  {
   "cell_type": "code",
   "execution_count": 14,
   "id": "60c98f83",
   "metadata": {},
   "outputs": [
    {
     "name": "stdout",
     "output_type": "stream",
     "text": [
      "1\n",
      "2\n",
      "john\n"
     ]
    }
   ],
   "source": [
    "a, b, c = 1, 2, \"john\"\n",
    "print(a);print(b);print(c)"
   ]
  },
  {
   "cell_type": "code",
   "execution_count": 19,
   "id": "bc342bdd",
   "metadata": {},
   "outputs": [
    {
     "name": "stdout",
     "output_type": "stream",
     "text": [
      "[1, 2, 3]\n",
      "[3, 4, 5]\n"
     ]
    }
   ],
   "source": [
    "a=[1,2,3]\n",
    "b=[3,4,5]\n",
    "print(a);print(b)\n",
    "del a,b\n",
    "# print(a);print(b)"
   ]
  },
  {
   "cell_type": "markdown",
   "id": "cc618853",
   "metadata": {},
   "source": [
    "# sys "
   ]
  },
  {
   "cell_type": "code",
   "execution_count": 27,
   "id": "adf003c2",
   "metadata": {},
   "outputs": [
    {
     "name": "stdout",
     "output_type": "stream",
     "text": [
      "foot\n"
     ]
    },
    {
     "data": {
      "text/plain": [
       "5"
      ]
     },
     "execution_count": 27,
     "metadata": {},
     "output_type": "execute_result"
    }
   ],
   "source": [
    "# semicolon ( ; ) allows multiple statements on a single line\n",
    "import sys; x = 'foo'; sys.stdout.write(x + 't\\n')"
   ]
  },
  {
   "cell_type": "code",
   "execution_count": 10,
   "id": "56ae1656",
   "metadata": {},
   "outputs": [
    {
     "name": "stdout",
     "output_type": "stream",
     "text": [
      "Number of arguments: 3 arguments.\n",
      "Argument List: ['C:\\\\Users\\\\Harish\\\\AppData\\\\Roaming\\\\Python\\\\Python39\\\\site-packages\\\\ipykernel_launcher.py', '-f', 'C:\\\\Users\\\\Harish\\\\AppData\\\\Roaming\\\\jupyter\\\\runtime\\\\kernel-18b6aa50-6ba1-41a1-ab36-0cb8ce1b6887.json']\n"
     ]
    }
   ],
   "source": [
    "# sys.argv is the list of command-line arguments.\n",
    "# len(sys.argv) is the number of command-line arguments\n",
    "import sys\n",
    "print ('Number of arguments:', len(sys.argv), 'arguments.')\n",
    "print ('Argument List:', str(sys.argv))"
   ]
  },
  {
   "cell_type": "markdown",
   "id": "db9cd4c1",
   "metadata": {},
   "source": [
    "# Data Type Conversion\n",
    "int float str list tuple eval set dict chr ord hex oct complex repr"
   ]
  },
  {
   "cell_type": "code",
   "execution_count": 44,
   "id": "5c3e3776",
   "metadata": {},
   "outputs": [
    {
     "name": "stdout",
     "output_type": "stream",
     "text": [
      "<class 'int'>\n",
      "\n",
      "\n",
      "10\n",
      "10.0\n",
      "0xa\n",
      "0o12\n",
      "10\n"
     ]
    }
   ],
   "source": [
    "# int\n",
    "a=10\n",
    "print(type(a))\n",
    "print(chr(a))\n",
    "print(str(a))\n",
    "print(float(a))\n",
    "print(hex(a))\n",
    "print(oct(a))\n",
    "print(repr(a))"
   ]
  },
  {
   "cell_type": "code",
   "execution_count": 31,
   "id": "0d8d2567",
   "metadata": {},
   "outputs": [
    {
     "name": "stdout",
     "output_type": "stream",
     "text": [
      "<class 'str'>\n",
      "['1', '0']\n",
      "('1', '0')\n",
      "{'1', '0'}\n",
      "1010\n"
     ]
    }
   ],
   "source": [
    "# str\n",
    "a='10'\n",
    "print(type(a))\n",
    "print(list(a))\n",
    "print(tuple(a))\n",
    "print(set(a))\n",
    "print(eval(a+'10'))"
   ]
  },
  {
   "cell_type": "code",
   "execution_count": 42,
   "id": "03b49ad6",
   "metadata": {},
   "outputs": [
    {
     "name": "stdout",
     "output_type": "stream",
     "text": [
      "<class 'float'>\n",
      "21.1\n",
      "21\n",
      "21.1\n"
     ]
    }
   ],
   "source": [
    "# float\n",
    "a=21.1\n",
    "print(type(a))\n",
    "print(str(a))\n",
    "print(int(a))\n",
    "print(repr(a))"
   ]
  },
  {
   "cell_type": "markdown",
   "id": "f5289b4e",
   "metadata": {},
   "source": [
    "# if elif else"
   ]
  },
  {
   "cell_type": "code",
   "execution_count": 50,
   "id": "10968139",
   "metadata": {},
   "outputs": [
    {
     "name": "stdout",
     "output_type": "stream",
     "text": [
      "Enter amount: 3000\n",
      "Discount 300.0\n",
      "Net payable: 2700.0\n"
     ]
    }
   ],
   "source": [
    "amount=int(input(\"Enter amount: \"))\n",
    "if amount<1000:\n",
    "    discount=amount*0.05 # 5%\n",
    "    print (\"Discount\",discount)\n",
    "elif amount<5000:\n",
    "    discount=amount*0.10 # 10%\n",
    "    print (\"Discount\",discount)\n",
    "else:\n",
    "    discount=amount*0.15 # 15%\n",
    "    print (\"Discount\",discount)\n",
    "print (\"Net payable:\",amount-discount)"
   ]
  },
  {
   "cell_type": "markdown",
   "id": "66bea18a",
   "metadata": {},
   "source": [
    "# Nested if else"
   ]
  },
  {
   "cell_type": "code",
   "execution_count": 55,
   "id": "6264dcec",
   "metadata": {},
   "outputs": [
    {
     "name": "stdout",
     "output_type": "stream",
     "text": [
      "enter number\n",
      "30\n",
      "divisible by 2 and 3\n"
     ]
    }
   ],
   "source": [
    "num=int(input(\"enter number\\n\"))\n",
    "if num%2==0:\n",
    "    if num%3==0:\n",
    "        print (\"divisible by 2 and 3\")\n",
    "    else:\n",
    "        print (\"divisible by 2\")\n",
    "else:\n",
    "    if num%3==0:\n",
    "        print (\"divisible by 3\")\n",
    "    else:\n",
    "        print (\"not divisible by both 2 and 3\")"
   ]
  },
  {
   "cell_type": "markdown",
   "id": "c6e6eff2",
   "metadata": {},
   "source": [
    "# while "
   ]
  },
  {
   "cell_type": "code",
   "execution_count": 66,
   "id": "885bd5d1",
   "metadata": {},
   "outputs": [
    {
     "name": "stdout",
     "output_type": "stream",
     "text": [
      "1\n",
      "2\n",
      "3\n",
      "4\n",
      "5\n",
      "6\n",
      "7\n",
      "8\n",
      "9\n",
      "10\n"
     ]
    }
   ],
   "source": [
    "i=0\n",
    "while i<10:\n",
    "#     print(i)\n",
    "    i+=1\n",
    "    print(i)\n"
   ]
  },
  {
   "cell_type": "code",
   "execution_count": 69,
   "id": "14138da2",
   "metadata": {},
   "outputs": [
    {
     "name": "stdout",
     "output_type": "stream",
     "text": [
      "0  is less than 5\n",
      "1  is less than 5\n",
      "2  is less than 5\n",
      "3  is less than 5\n",
      "4  is less than 5\n",
      "5  is not less than 5\n"
     ]
    }
   ],
   "source": [
    "count = 0\n",
    "while count < 5:\n",
    "    print (count, \" is less than 5\")\n",
    "    count = count + 1\n",
    "else:\n",
    "    print (count, \" is not less than 5\")"
   ]
  },
  {
   "cell_type": "markdown",
   "id": "3f51e972",
   "metadata": {},
   "source": [
    "# Range"
   ]
  },
  {
   "cell_type": "code",
   "execution_count": 70,
   "id": "8bf9bc50",
   "metadata": {},
   "outputs": [
    {
     "name": "stdout",
     "output_type": "stream",
     "text": [
      "range(0, 5)\n"
     ]
    }
   ],
   "source": [
    "r=range(5)\n",
    "print(r)"
   ]
  },
  {
   "cell_type": "code",
   "execution_count": 75,
   "id": "e0907746",
   "metadata": {},
   "outputs": [
    {
     "name": "stdout",
     "output_type": "stream",
     "text": [
      "[0, 1, 2, 3, 4]\n",
      "(0, 1, 2, 3, 4)\n",
      "{0, 1, 2, 3, 4}\n"
     ]
    }
   ],
   "source": [
    "print(list(r))\n",
    "print(tuple(r))\n",
    "print(set(r))"
   ]
  },
  {
   "cell_type": "code",
   "execution_count": 1,
   "id": "e2766fcb",
   "metadata": {},
   "outputs": [
    {
     "name": "stdout",
     "output_type": "stream",
     "text": [
      "0\n",
      "1\n",
      "2\n",
      "3\n",
      "4\n"
     ]
    }
   ],
   "source": [
    "for var in list(range(5)):\n",
    "    print (var)"
   ]
  },
  {
   "cell_type": "markdown",
   "id": "41074193",
   "metadata": {},
   "source": [
    "# for"
   ]
  },
  {
   "cell_type": "code",
   "execution_count": null,
   "id": "894abdc7",
   "metadata": {},
   "outputs": [],
   "source": [
    "numbers=[70,33,55,39,50,75,37,21,23,41,13]\n",
    "for num in numbers:\n",
    "    if num%2==0:\n",
    "        print(count(num))\n",
    "            "
   ]
  },
  {
   "cell_type": "code",
   "execution_count": 1,
   "id": "4e43bd19",
   "metadata": {},
   "outputs": [
    {
     "name": "stdout",
     "output_type": "stream",
     "text": [
      "1 2 3 4 5 6 7 8 9 10 \n",
      "2 4 6 8 10 12 14 16 18 20 \n",
      "3 6 9 12 15 18 21 24 27 30 \n",
      "4 8 12 16 20 24 28 32 36 40 \n",
      "5 10 15 20 25 30 35 40 45 50 \n",
      "6 12 18 24 30 36 42 48 54 60 \n",
      "7 14 21 28 35 42 49 56 63 70 \n",
      "8 16 24 32 40 48 56 64 72 80 \n",
      "9 18 27 36 45 54 63 72 81 90 \n",
      "10 20 30 40 50 60 70 80 90 100 \n"
     ]
    }
   ],
   "source": [
    "# tables\n",
    "for i in range(1,11):\n",
    "    for j in range(1,11):\n",
    "        k=i*j\n",
    "        print (k, end=' ')\n",
    "    print()"
   ]
  },
  {
   "cell_type": "markdown",
   "id": "2405bc16",
   "metadata": {},
   "source": [
    "# pass"
   ]
  },
  {
   "cell_type": "code",
   "execution_count": 3,
   "id": "62290081",
   "metadata": {},
   "outputs": [
    {
     "name": "stdout",
     "output_type": "stream",
     "text": [
      "Current Letter : P\n",
      "Current Letter : y\n",
      "Current Letter : t\n",
      "This is pass block\n",
      "Current Letter : h\n",
      "Current Letter : o\n",
      "Current Letter : n\n"
     ]
    }
   ],
   "source": [
    "for letter in 'Python':\n",
    "    if letter == 'h':\n",
    "        pass\n",
    "        print ('This is pass block')\n",
    "    print ('Current Letter :', letter)"
   ]
  },
  {
   "cell_type": "markdown",
   "id": "7943afb4",
   "metadata": {},
   "source": [
    "# iter() next()"
   ]
  },
  {
   "cell_type": "code",
   "execution_count": 8,
   "id": "16946612",
   "metadata": {},
   "outputs": [
    {
     "name": "stdout",
     "output_type": "stream",
     "text": [
      "1\n"
     ]
    }
   ],
   "source": [
    "list=[1,2,3,4]\n",
    "it = iter(list)\n",
    "print(next(it))"
   ]
  },
  {
   "cell_type": "markdown",
   "id": "424518e8",
   "metadata": {},
   "source": [
    "# Mathematical Functions\n",
    "abs ceil exp fabs floor log log10 min max power round sqrt"
   ]
  },
  {
   "cell_type": "code",
   "execution_count": 2,
   "id": "8f97f9d7",
   "metadata": {},
   "outputs": [
    {
     "name": "stdout",
     "output_type": "stream",
     "text": [
      "abs(-45) :  45\n",
      "abs(100.12) :  100.12\n"
     ]
    }
   ],
   "source": [
    "# abs()\n",
    "print (\"abs(-45) : \", abs(-45))\n",
    "print (\"abs(100.12) : \", abs(100.12))"
   ]
  },
  {
   "cell_type": "code",
   "execution_count": 3,
   "id": "d9c9aa5e",
   "metadata": {},
   "outputs": [
    {
     "name": "stdout",
     "output_type": "stream",
     "text": [
      "math.ceil(-45.17) :  -45\n",
      "math.ceil(100.12) :  101\n",
      "math.ceil(100.72) :  101\n",
      "math.ceil(math.pi) :  4\n"
     ]
    }
   ],
   "source": [
    "# ceil()\n",
    "import math # This will import math module\n",
    "print (\"math.ceil(-45.17) : \", math.ceil(-45.17))\n",
    "print (\"math.ceil(100.12) : \", math.ceil(100.12))\n",
    "print (\"math.ceil(100.72) : \", math.ceil(100.72))\n",
    "print (\"math.ceil(math.pi) : \", math.ceil(math.pi))"
   ]
  },
  {
   "cell_type": "code",
   "execution_count": 4,
   "id": "ae4f161d",
   "metadata": {},
   "outputs": [
    {
     "name": "stdout",
     "output_type": "stream",
     "text": [
      "math.exp(-45.17) :  2.4150062132629406e-20\n",
      "math.exp(100.12) :  3.0308436140742566e+43\n",
      "math.exp(100.72) :  5.522557130248187e+43\n",
      "math.exp(math.pi) :  23.140692632779267\n"
     ]
    }
   ],
   "source": [
    "# exp()\n",
    "print (\"math.exp(-45.17) : \", math.exp(-45.17))\n",
    "print (\"math.exp(100.12) : \", math.exp(100.12))\n",
    "print (\"math.exp(100.72) : \", math.exp(100.72))\n",
    "print (\"math.exp(math.pi) : \", math.exp(math.pi))"
   ]
  },
  {
   "cell_type": "code",
   "execution_count": 5,
   "id": "e7616ae7",
   "metadata": {},
   "outputs": [
    {
     "name": "stdout",
     "output_type": "stream",
     "text": [
      "math.fabs(-45.17) :  45.17\n",
      "math.fabs(100.12) :  100.12\n",
      "math.fabs(100.72) :  100.72\n",
      "math.fabs(math.pi) :  3.141592653589793\n"
     ]
    }
   ],
   "source": [
    "# fabs()\n",
    "import math # This will import math module\n",
    "print (\"math.fabs(-45.17) : \", math.fabs(-45.17))\n",
    "print (\"math.fabs(100.12) : \", math.fabs(100.12))\n",
    "print (\"math.fabs(100.72) : \", math.fabs(100.72))\n",
    "print (\"math.fabs(math.pi) : \", math.fabs(math.pi))"
   ]
  },
  {
   "cell_type": "code",
   "execution_count": 6,
   "id": "bd714bc6",
   "metadata": {},
   "outputs": [
    {
     "name": "stdout",
     "output_type": "stream",
     "text": [
      "math.floor(-45.17) :  -46\n",
      "math.floor(100.12) :  100\n",
      "math.floor(100.72) :  100\n",
      "math.floor(math.pi) :  3\n"
     ]
    }
   ],
   "source": [
    "# floor()   min\n",
    "import math # This will import math module\n",
    "print (\"math.floor(-45.17) : \", math.floor(-45.17))\n",
    "print (\"math.floor(100.12) : \", math.floor(100.12))\n",
    "print (\"math.floor(100.72) : \", math.floor(100.72))\n",
    "print (\"math.floor(math.pi) : \", math.floor(math.pi))"
   ]
  },
  {
   "cell_type": "code",
   "execution_count": 7,
   "id": "98684bb5",
   "metadata": {},
   "outputs": [
    {
     "name": "stdout",
     "output_type": "stream",
     "text": [
      "math.log(100.12) :  4.6063694665635735\n",
      "math.log(100.72) :  4.612344389736092\n",
      "math.log(math.pi) :  1.1447298858494002\n"
     ]
    }
   ],
   "source": [
    "# log()\n",
    "import math # This will import math module\n",
    "print (\"math.log(100.12) : \", math.log(100.12))\n",
    "print (\"math.log(100.72) : \", math.log(100.72))\n",
    "print (\"math.log(math.pi) : \", math.log(math.pi))"
   ]
  },
  {
   "cell_type": "code",
   "execution_count": 8,
   "id": "3eaf0b22",
   "metadata": {},
   "outputs": [
    {
     "name": "stdout",
     "output_type": "stream",
     "text": [
      "math.log10(100.12) :  2.0005208409361854\n",
      "math.log10(100.72) :  2.003115717099806\n",
      "math.log10(119) :  2.0755469613925306\n",
      "math.log10(math.pi) :  0.49714987269413385\n"
     ]
    }
   ],
   "source": [
    "# log10()\n",
    "import math # This will import math module\n",
    "print (\"math.log10(100.12) : \", math.log10(100.12))\n",
    "print (\"math.log10(100.72) : \", math.log10(100.72))\n",
    "print (\"math.log10(119) : \", math.log10(119))\n",
    "print (\"math.log10(math.pi) : \", math.log10(math.pi))"
   ]
  },
  {
   "cell_type": "code",
   "execution_count": 9,
   "id": "3d0de92e",
   "metadata": {},
   "outputs": [
    {
     "name": "stdout",
     "output_type": "stream",
     "text": [
      "max(-20, 100, 400) :  400\n"
     ]
    }
   ],
   "source": [
    "# max()\n",
    "print (\"max(-20, 100, 400) : \", max(-20, 100, 400))"
   ]
  },
  {
   "cell_type": "code",
   "execution_count": 10,
   "id": "c5bda43b",
   "metadata": {},
   "outputs": [
    {
     "name": "stdout",
     "output_type": "stream",
     "text": [
      "min(-20, 100, 400) :  -20\n"
     ]
    }
   ],
   "source": [
    "# min()\n",
    "print (\"min(-20, 100, 400) : \", min(-20, 100, 400))"
   ]
  },
  {
   "cell_type": "code",
   "execution_count": 11,
   "id": "33b1bcb4",
   "metadata": {},
   "outputs": [
    {
     "name": "stdout",
     "output_type": "stream",
     "text": [
      "math.pow(100, 2) :  10000.0\n"
     ]
    }
   ],
   "source": [
    "# pow()\n",
    "print (\"math.pow(100, 2) : \", math.pow(100, 2))"
   ]
  },
  {
   "cell_type": "code",
   "execution_count": 12,
   "id": "e97973ba",
   "metadata": {},
   "outputs": [
    {
     "name": "stdout",
     "output_type": "stream",
     "text": [
      "round(70.23456) :  70\n",
      "round(56.659,1) :  56.7\n",
      "round(80.264, 2) :  80.26\n",
      "round(100.000056, 3) :  100.0\n",
      "round(-100.000056, 3) :  -100.0\n"
     ]
    }
   ],
   "source": [
    "# round\n",
    "print (\"round(70.23456) : \", round(70.23456))\n",
    "print (\"round(56.659,1) : \", round(56.659,1))\n",
    "print (\"round(80.264, 2) : \", round(80.264, 2))\n",
    "print (\"round(100.000056, 3) : \", round(100.000056, 3))\n",
    "print (\"round(-100.000056, 3) : \", round(-100.000056, 3))"
   ]
  },
  {
   "cell_type": "code",
   "execution_count": 13,
   "id": "4cd61023",
   "metadata": {},
   "outputs": [
    {
     "name": "stdout",
     "output_type": "stream",
     "text": [
      "math.sqrt(100) :  10.0\n"
     ]
    }
   ],
   "source": [
    "import math\n",
    "print (\"math.sqrt(100) : \", math.sqrt(100))"
   ]
  },
  {
   "cell_type": "code",
   "execution_count": null,
   "id": "e4b4c423",
   "metadata": {},
   "outputs": [],
   "source": []
  }
 ],
 "metadata": {
  "kernelspec": {
   "display_name": "Python 3 (ipykernel)",
   "language": "python",
   "name": "python3"
  },
  "language_info": {
   "codemirror_mode": {
    "name": "ipython",
    "version": 3
   },
   "file_extension": ".py",
   "mimetype": "text/x-python",
   "name": "python",
   "nbconvert_exporter": "python",
   "pygments_lexer": "ipython3",
   "version": "3.9.12"
  }
 },
 "nbformat": 4,
 "nbformat_minor": 5
}
